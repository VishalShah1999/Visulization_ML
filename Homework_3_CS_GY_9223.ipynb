{
  "nbformat": 4,
  "nbformat_minor": 0,
  "metadata": {
    "colab": {
      "name": "Homework_3_CS-GY-9223.ipynb",
      "provenance": [],
      "collapsed_sections": [],
      "include_colab_link": true
    },
    "kernelspec": {
      "name": "python3",
      "display_name": "Python 3"
    },
    "language_info": {
      "name": "python"
    }
  },
  "cells": [
    {
      "cell_type": "markdown",
      "metadata": {
        "id": "view-in-github",
        "colab_type": "text"
      },
      "source": [
        "<a href=\"https://colab.research.google.com/github/VishalShah1999/Visulization_ML/blob/main/Homework_3_CS_GY_9223.ipynb\" target=\"_parent\"><img src=\"https://colab.research.google.com/assets/colab-badge.svg\" alt=\"Open In Colab\"/></a>"
      ]
    },
    {
      "cell_type": "markdown",
      "source": [
        "# Homework 3\n",
        "\n",
        "In this homework you will use `sklearn` to analyze and visualize model performance. You will be required to use the _new_ `sklearn` implementations, as well as write some of your own functions. You can see `sklearn`'s new visualization API documentation [here](https://scikit-learn.org/stable/visualizations.html#visualizations).\n",
        "\n",
        "*Do not change* the code block below. It generates the data and trains the model you use."
      ],
      "metadata": {
        "id": "7n4paNrE8PIw"
      }
    },
    {
      "cell_type": "code",
      "execution_count": 65,
      "metadata": {
        "id": "CHnM71W-8MAL"
      },
      "outputs": [],
      "source": [
        "# Constants. DO NOT CHANGE.\n",
        "RANDOM_STATE = 2022\n",
        "\n",
        "from sklearn.datasets import make_classification\n",
        "from sklearn.ensemble import RandomForestClassifier\n",
        "from sklearn.model_selection import train_test_split\n",
        "\n",
        "X, y = make_classification(\n",
        "    n_samples=1_000, n_features=20, n_informative=2, n_redundant=10, random_state=RANDOM_STATE\n",
        ")  # Generate data\n",
        "\n",
        "X_train, X_test, y_train, y_test = train_test_split(\n",
        "    X, y, test_size=0.8, random_state=RANDOM_STATE\n",
        ")  # Split into test and train set\n",
        "\n",
        "clf = RandomForestClassifier(random_state=RANDOM_STATE)  # Random Forest model\n",
        "clf.fit(X_train, y_train)\n",
        "\n",
        "y_preds_proba = clf.predict_proba(X_test)  # Predicted probabilities\n",
        "y_preds_label = clf.predict(X_test)  # Predicted label"
      ]
    },
    {
      "cell_type": "code",
      "source": [
        "# Probability predictions. First column is for class \"0\", second is for class \"1\"\n",
        "y_preds_proba"
      ],
      "metadata": {
        "colab": {
          "base_uri": "https://localhost:8080/"
        },
        "id": "7p-1yFoB9WM2",
        "outputId": "69f1f1c7-0a5b-414b-e618-9a0b22816415"
      },
      "execution_count": 66,
      "outputs": [
        {
          "output_type": "execute_result",
          "data": {
            "text/plain": [
              "array([[0.99, 0.01],\n",
              "       [0.91, 0.09],\n",
              "       [0.1 , 0.9 ],\n",
              "       ...,\n",
              "       [0.99, 0.01],\n",
              "       [0.09, 0.91],\n",
              "       [0.26, 0.74]])"
            ]
          },
          "metadata": {},
          "execution_count": 66
        }
      ]
    },
    {
      "cell_type": "code",
      "source": [
        "y_test.shape"
      ],
      "metadata": {
        "colab": {
          "base_uri": "https://localhost:8080/"
        },
        "id": "qNPEutPAf_g3",
        "outputId": "403ecef6-eab6-408e-8f70-2a30b18ca9c9"
      },
      "execution_count": 67,
      "outputs": [
        {
          "output_type": "execute_result",
          "data": {
            "text/plain": [
              "(800,)"
            ]
          },
          "metadata": {},
          "execution_count": 67
        }
      ]
    },
    {
      "cell_type": "code",
      "source": [
        "# Label predictions using a standard 0.5 threshold\n",
        "y_preds_label"
      ],
      "metadata": {
        "colab": {
          "base_uri": "https://localhost:8080/"
        },
        "id": "kcSs4EWk9bok",
        "outputId": "af63a3de-ec45-4282-dd01-00c56890fd6e"
      },
      "execution_count": 68,
      "outputs": [
        {
          "output_type": "execute_result",
          "data": {
            "text/plain": [
              "array([0, 0, 1, 1, 0, 0, 1, 0, 0, 1, 1, 1, 0, 0, 1, 1, 1, 0, 1, 1, 0, 1,\n",
              "       0, 0, 1, 0, 0, 0, 1, 1, 1, 1, 0, 1, 1, 0, 1, 0, 0, 0, 1, 0, 0, 0,\n",
              "       1, 0, 1, 0, 1, 0, 0, 1, 0, 0, 0, 0, 0, 0, 0, 0, 1, 1, 0, 0, 0, 1,\n",
              "       0, 1, 1, 1, 1, 1, 0, 0, 0, 0, 0, 1, 0, 0, 0, 0, 1, 1, 1, 0, 0, 0,\n",
              "       0, 0, 1, 1, 1, 0, 1, 1, 1, 0, 0, 1, 1, 1, 0, 1, 1, 1, 0, 1, 1, 0,\n",
              "       1, 1, 1, 0, 0, 0, 1, 0, 1, 0, 0, 0, 0, 1, 0, 1, 1, 1, 0, 0, 0, 0,\n",
              "       1, 0, 0, 1, 1, 1, 0, 0, 0, 1, 1, 0, 1, 0, 0, 0, 1, 1, 1, 0, 0, 0,\n",
              "       0, 0, 0, 1, 0, 0, 0, 1, 0, 1, 1, 1, 0, 1, 0, 0, 1, 0, 1, 1, 0, 1,\n",
              "       0, 1, 0, 1, 0, 1, 0, 1, 0, 1, 0, 1, 1, 1, 1, 1, 1, 0, 1, 0, 1, 1,\n",
              "       1, 1, 1, 1, 1, 1, 1, 1, 1, 0, 0, 0, 0, 0, 0, 1, 1, 0, 1, 1, 0, 1,\n",
              "       1, 0, 1, 0, 1, 1, 1, 1, 0, 0, 0, 0, 0, 1, 0, 0, 1, 0, 0, 0, 1, 0,\n",
              "       0, 0, 0, 0, 0, 1, 1, 0, 0, 0, 0, 1, 0, 0, 0, 1, 0, 1, 0, 0, 1, 0,\n",
              "       1, 0, 1, 1, 1, 0, 1, 1, 1, 0, 0, 0, 0, 1, 1, 0, 0, 0, 1, 1, 1, 1,\n",
              "       0, 0, 1, 0, 1, 0, 0, 0, 1, 1, 0, 0, 1, 1, 0, 1, 1, 0, 0, 0, 1, 0,\n",
              "       1, 0, 1, 1, 1, 1, 1, 0, 1, 1, 0, 1, 1, 1, 1, 1, 0, 1, 0, 0, 0, 0,\n",
              "       0, 1, 0, 1, 1, 0, 0, 0, 0, 1, 0, 1, 0, 0, 0, 1, 1, 1, 1, 0, 1, 1,\n",
              "       1, 1, 1, 0, 0, 0, 0, 0, 0, 1, 1, 1, 1, 1, 0, 1, 0, 1, 0, 0, 1, 0,\n",
              "       1, 0, 1, 1, 1, 1, 0, 1, 0, 1, 1, 1, 1, 0, 0, 0, 1, 1, 1, 0, 0, 0,\n",
              "       1, 1, 1, 0, 0, 0, 1, 0, 1, 1, 0, 1, 0, 0, 0, 1, 0, 1, 0, 1, 1, 1,\n",
              "       0, 1, 0, 0, 0, 1, 1, 1, 0, 0, 1, 0, 1, 1, 1, 1, 0, 1, 1, 0, 0, 0,\n",
              "       1, 1, 0, 1, 0, 1, 0, 0, 0, 1, 1, 1, 1, 1, 0, 0, 0, 0, 0, 1, 1, 0,\n",
              "       1, 1, 0, 0, 0, 0, 0, 1, 1, 0, 0, 0, 1, 1, 0, 0, 1, 1, 0, 1, 0, 1,\n",
              "       1, 1, 0, 1, 1, 0, 0, 0, 0, 1, 0, 1, 1, 1, 0, 1, 1, 1, 1, 0, 0, 0,\n",
              "       0, 1, 1, 0, 1, 1, 0, 1, 1, 1, 0, 1, 0, 1, 1, 1, 1, 1, 1, 0, 0, 1,\n",
              "       0, 0, 0, 0, 0, 0, 0, 0, 0, 0, 1, 1, 1, 1, 1, 0, 0, 1, 0, 0, 0, 1,\n",
              "       1, 1, 1, 1, 0, 1, 1, 1, 0, 1, 1, 0, 0, 1, 1, 0, 0, 1, 0, 0, 1, 0,\n",
              "       0, 0, 1, 1, 1, 0, 0, 1, 0, 0, 1, 1, 1, 0, 0, 1, 1, 1, 1, 0, 0, 1,\n",
              "       1, 0, 1, 0, 0, 0, 0, 1, 0, 1, 0, 1, 0, 1, 1, 0, 1, 0, 0, 1, 0, 1,\n",
              "       0, 0, 0, 0, 0, 1, 0, 0, 0, 0, 0, 0, 1, 1, 1, 1, 0, 0, 1, 0, 1, 0,\n",
              "       1, 1, 1, 1, 1, 0, 1, 1, 0, 1, 1, 0, 0, 1, 0, 1, 1, 0, 0, 0, 0, 1,\n",
              "       0, 1, 1, 0, 1, 0, 1, 0, 0, 1, 0, 1, 1, 0, 1, 1, 0, 1, 1, 1, 1, 0,\n",
              "       0, 0, 1, 0, 1, 0, 1, 1, 0, 0, 0, 1, 1, 1, 0, 1, 1, 1, 0, 0, 1, 0,\n",
              "       1, 1, 0, 1, 1, 0, 1, 0, 1, 1, 0, 0, 0, 1, 0, 1, 0, 0, 0, 1, 0, 1,\n",
              "       1, 1, 1, 1, 0, 1, 1, 0, 1, 0, 0, 1, 0, 1, 0, 0, 0, 1, 1, 1, 0, 0,\n",
              "       0, 0, 1, 0, 1, 1, 0, 1, 0, 1, 0, 1, 0, 0, 1, 1, 1, 0, 1, 0, 0, 0,\n",
              "       0, 1, 1, 0, 1, 0, 1, 1, 1, 1, 1, 1, 1, 0, 1, 0, 0, 0, 0, 1, 0, 1,\n",
              "       0, 0, 1, 1, 1, 0, 1, 1])"
            ]
          },
          "metadata": {},
          "execution_count": 68
        }
      ]
    },
    {
      "cell_type": "markdown",
      "source": [
        "# (1) Plot Confusion Matrix\n",
        "\n",
        "Plot the confusion matrix for the test set."
      ],
      "metadata": {
        "id": "WKbR0QAQ8uR_"
      }
    },
    {
      "cell_type": "code",
      "source": [
        "# Plot the confusion matrix for the test set.\n",
        "from sklearn.metrics import plot_confusion_matrix\n",
        "plot_confusion_matrix(clf, X_test, y_test)"
      ],
      "metadata": {
        "id": "Q62hd8le8tXI",
        "colab": {
          "base_uri": "https://localhost:8080/",
          "height": 350
        },
        "outputId": "1cda30b8-2710-49bb-fc2a-5d7beec17670"
      },
      "execution_count": 69,
      "outputs": [
        {
          "output_type": "stream",
          "name": "stderr",
          "text": [
            "/usr/local/lib/python3.7/dist-packages/sklearn/utils/deprecation.py:87: FutureWarning: Function plot_confusion_matrix is deprecated; Function `plot_confusion_matrix` is deprecated in 1.0 and will be removed in 1.2. Use one of the class methods: ConfusionMatrixDisplay.from_predictions or ConfusionMatrixDisplay.from_estimator.\n",
            "  warnings.warn(msg, category=FutureWarning)\n"
          ]
        },
        {
          "output_type": "execute_result",
          "data": {
            "text/plain": [
              "<sklearn.metrics._plot.confusion_matrix.ConfusionMatrixDisplay at 0x7fc47e51dcd0>"
            ]
          },
          "metadata": {},
          "execution_count": 69
        },
        {
          "output_type": "display_data",
          "data": {
            "image/png": "[encoded data removed]",
            "text/plain": [
              "<Figure size 432x288 with 2 Axes>"
            ]
          },
          "metadata": {
            "needs_background": "light"
          }
        }
      ]
    },
    {
      "cell_type": "markdown",
      "source": [
        "# (2) Classification Report\n",
        "\n",
        "Calculate the precision, recall, accuracy and f1-score for the test set."
      ],
      "metadata": {
        "id": "DZUnU72i9fTZ"
      }
    },
    {
      "cell_type": "code",
      "source": [
        "# Calculate the precision, recall, accuracy and f1-score for the test set.\n",
        "from sklearn.metrics import classification_report\n",
        "print(classification_report(y_test, y_preds_label))"
      ],
      "metadata": {
        "id": "PQWHzNkh9n-W",
        "colab": {
          "base_uri": "https://localhost:8080/"
        },
        "outputId": "9f88e364-304c-4e11-d4fc-02778f3612bd"
      },
      "execution_count": 70,
      "outputs": [
        {
          "output_type": "stream",
          "name": "stdout",
          "text": [
            "              precision    recall  f1-score   support\n",
            "\n",
            "           0       0.84      0.84      0.84       398\n",
            "           1       0.85      0.85      0.85       402\n",
            "\n",
            "    accuracy                           0.84       800\n",
            "   macro avg       0.84      0.84      0.84       800\n",
            "weighted avg       0.84      0.84      0.84       800\n",
            "\n"
          ]
        }
      ]
    },
    {
      "cell_type": "markdown",
      "source": [
        "# (3) Plot ROC Curve and Report AUC\n",
        "\n",
        "Plot the ROC curve and report the AUC for the test set."
      ],
      "metadata": {
        "id": "17J59kEm9txe"
      }
    },
    {
      "cell_type": "code",
      "source": [
        "# Plot the ROC curve and report the AUC for the test set.\n",
        "from sklearn.metrics import plot_roc_curve\n",
        "plot_roc_curve(clf, X_test, y_test)"
      ],
      "metadata": {
        "id": "OZsMh08w9wks",
        "colab": {
          "base_uri": "https://localhost:8080/",
          "height": 350
        },
        "outputId": "0d7fa748-efa6-4653-eca4-82d28f953a86"
      },
      "execution_count": 71,
      "outputs": [
        {
          "output_type": "stream",
          "name": "stderr",
          "text": [
            "/usr/local/lib/python3.7/dist-packages/sklearn/utils/deprecation.py:87: FutureWarning: Function plot_roc_curve is deprecated; Function :func:`plot_roc_curve` is deprecated in 1.0 and will be removed in 1.2. Use one of the class methods: :meth:`sklearn.metric.RocCurveDisplay.from_predictions` or :meth:`sklearn.metric.RocCurveDisplay.from_estimator`.\n",
            "  warnings.warn(msg, category=FutureWarning)\n"
          ]
        },
        {
          "output_type": "execute_result",
          "data": {
            "text/plain": [
              "<sklearn.metrics._plot.roc_curve.RocCurveDisplay at 0x7fc47e409690>"
            ]
          },
          "metadata": {},
          "execution_count": 71
        },
        {
          "output_type": "display_data",
          "data": {
            "image/png": "[encoded data removed]",
            "text/plain": [
              "<Figure size 432x288 with 1 Axes>"
            ]
          },
          "metadata": {
            "needs_background": "light"
          }
        }
      ]
    },
    {
      "cell_type": "markdown",
      "source": [
        "# (4) Expected Calibration Error (ECE), Maximum Calibration Error (MCE), Plot Reliability Diagram\n",
        "\n",
        "Using `calibration_curve`, which you can access via `from sklearn.calibration import calibration_curve`, calculate:\n",
        "\n",
        "ECE when `calibration_curve(..., method=\"quantile\")` -- this produces bins of equal sample size\n",
        "MCE when `calibration_curve(..., method=\"uniform\")` -- this produces bins of equal width\n",
        "\n",
        "Then, plot the reliability diagram for `method=\"quantile\"` and `method=\"uniform\"`. Comment on which one you believe is \"better\" to report (i.e., what are the pros and cons of using \"quantile\" compared to \"uniform\")\n",
        "\n"
      ],
      "metadata": {
        "id": "cR_YGx2w935P"
      }
    },
    {
      "cell_type": "code",
      "source": [
        "from sklearn.calibration import CalibrationDisplay\n",
        "import matplotlib.pyplot as plt\n",
        "from matplotlib.gridspec import GridSpec\n",
        "\n",
        "fig = plt.figure(figsize=(10, 10))\n",
        "gs = GridSpec(4, 2)\n",
        "#colors = plt.cm.get_cmap(\"Dark2\")\n",
        "\n",
        "ax_calibration_curve = fig.add_subplot(gs[:2, :2])\n",
        "\n",
        "display = CalibrationDisplay.from_estimator(\n",
        "    clf,\n",
        "    X_test,\n",
        "    y_test,\n",
        "    n_bins=10,\n",
        "    name='Random Forest',\n",
        "    strategy=\"quantile\",  # Equal bin size\n",
        "    ax=ax_calibration_curve\n",
        ")\n",
        "\n",
        "ax_calibration_curve.grid()\n",
        "ax_calibration_curve.set_title(\"Calibration plots\")"
      ],
      "metadata": {
        "colab": {
          "base_uri": "https://localhost:8080/",
          "height": 355
        },
        "id": "3sEsyJnnhvlP",
        "outputId": "45e98908-ce08-46a0-ae27-e9c2322098e6"
      },
      "execution_count": null,
      "outputs": [
        {
          "output_type": "execute_result",
          "data": {
            "text/plain": [
              "Text(0.5, 1.0, 'Calibration plots')"
            ]
          },
          "metadata": {},
          "execution_count": 9
        },
        {
          "output_type": "display_data",
          "data": {
            "image/png": "[encoded data removed]",
            "text/plain": [
              "<Figure size 720x720 with 1 Axes>"
            ]
          },
          "metadata": {
            "needs_background": "light"
          }
        }
      ]
    },
    {
      "cell_type": "code",
      "source": [
        "# Calculated ECE for calibration_curve(..., strategy=\"quantile\")\n",
        "\n",
        "# Calculate MCE for calibration_curve(..., strategy=\"uniform\")\n",
        "\n",
        "# Plot reliability diagrams for each"
      ],
      "metadata": {
        "id": "sNwfHXYW-icX"
      },
      "execution_count": null,
      "outputs": []
    },
    {
      "cell_type": "markdown",
      "source": [
        "# (5) Brier Score and Log Loss\n",
        "\n",
        "Write your own Brier Score and Log Loss functions for the data from above. Ensure that the outputs equal those from `sklearn`. You can access `sklearn`'s implementation using \n",
        "\n",
        "```\n",
        "from sklearn.metrics import brier_score_loss, log_loss\n",
        "```\n",
        "\n",
        "DO NOT simply write a wrapper for `sklearn`'s implementation. Write your own, test it, and show the results of the test."
      ],
      "metadata": {
        "id": "cLucwaZL-rKn"
      }
    },
    {
      "cell_type": "code",
      "source": [
        "import numpy as np"
      ],
      "metadata": {
        "id": "wL8eubv2jwpk"
      },
      "execution_count": 72,
      "outputs": []
    },
    {
      "cell_type": "code",
      "source": [
        "def custom_brier_score(y_test, y_pred):\n",
        "  losses = np.subtract(y_test, y_pred)**2\n",
        "  brier_score = losses.sum()/800\n",
        "  return brier_score\n",
        "def custom_log_loss(y_test, y_pred):\n",
        "  m = 0\n",
        "  eps = 1e-15\n",
        "  for i, j in enumerate(y_test):\n",
        "    p = y_pred[i]\n",
        "    if j == 0:\n",
        "      m = m + np.log(1 - y_pred[i] + eps)\n",
        "    else:\n",
        "      m = m + np.log(y_pred[i] + eps)\n",
        "  return (-m/len(y_test))"
      ],
      "metadata": {
        "id": "ajFjaXZ5-s2c"
      },
      "execution_count": 73,
      "outputs": []
    },
    {
      "cell_type": "code",
      "source": [
        "print(\"Custom Brier Score = \", custom_brier_score(y_test, y_preds_proba[:,1]))\n",
        "print(\"Custom Log Loss = \", custom_log_loss(y_test, y_preds_proba[:,1]))"
      ],
      "metadata": {
        "id": "eaxxrtBOkFP_",
        "outputId": "99ec9066-c53a-4d09-fe2a-38ac7e8df291",
        "colab": {
          "base_uri": "https://localhost:8080/"
        }
      },
      "execution_count": 74,
      "outputs": [
        {
          "output_type": "stream",
          "name": "stdout",
          "text": [
            "Custom Brier Score =  0.1130645\n",
            "Custom Log Loss =  0.5219801484938171\n"
          ]
        }
      ]
    },
    {
      "cell_type": "code",
      "source": [
        "# Sanity Check\n",
        "from sklearn.metrics import brier_score_loss\n",
        "from sklearn.metrics import log_loss\n",
        "\n",
        "print(\"Sklearn's Brier Score = \",brier_score_loss(y_test, y_preds_proba[:,1]))\n",
        "print(\"Sklearn's Log Loss = \",log_loss(y_test, y_preds_proba[:,1]))"
      ],
      "metadata": {
        "colab": {
          "base_uri": "https://localhost:8080/"
        },
        "id": "wn0b8Jqfa-KT",
        "outputId": "bf98c778-4319-4d9e-943d-0f9e5142c185"
      },
      "execution_count": 76,
      "outputs": [
        {
          "output_type": "stream",
          "name": "stdout",
          "text": [
            "Sklearn's Brier Score =  0.1130645\n",
            "Sklearn's Log Loss =  0.521981147990606\n"
          ]
        }
      ]
    }
  ]
}