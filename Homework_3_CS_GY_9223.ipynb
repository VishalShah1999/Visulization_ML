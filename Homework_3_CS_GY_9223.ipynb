{
  "nbformat": 4,
  "nbformat_minor": 0,
  "metadata": {
    "colab": {
      "name": "Homework_3_CS-GY-9223.ipynb",
      "provenance": [],
      "collapsed_sections": [],
      "include_colab_link": true
    },
    "kernelspec": {
      "name": "python3",
      "display_name": "Python 3"
    },
    "language_info": {
      "name": "python"
    }
  },
  "cells": [
    {
      "cell_type": "markdown",
      "metadata": {
        "id": "view-in-github",
        "colab_type": "text"
      },
      "source": [
        "<a href=\"https://colab.research.google.com/github/VishalShah1999/Visulization_ML/blob/main/Homework_3_CS_GY_9223.ipynb\" target=\"_parent\"><img src=\"https://colab.research.google.com/assets/colab-badge.svg\" alt=\"Open In Colab\"/></a>"
      ]
    },
    {
      "cell_type": "markdown",
      "source": [
        "# Homework 3\n",
        "\n",
        "In this homework you will use `sklearn` to analyze and visualize model performance. You will be required to use the _new_ `sklearn` implementations, as well as write some of your own functions. You can see `sklearn`'s new visualization API documentation [here](https://scikit-learn.org/stable/visualizations.html#visualizations).\n",
        "\n",
        "*Do not change* the code block below. It generates the data and trains the model you use."
      ],
      "metadata": {
        "id": "7n4paNrE8PIw"
      }
    },
    {
      "cell_type": "code",
      "execution_count": 1,
      "metadata": {
        "id": "CHnM71W-8MAL"
      },
      "outputs": [],
      "source": [
        "# Constants. DO NOT CHANGE.\n",
        "RANDOM_STATE = 2022\n",
        "\n",
        "from sklearn.datasets import make_classification\n",
        "from sklearn.ensemble import RandomForestClassifier\n",
        "from sklearn.model_selection import train_test_split\n",
        "\n",
        "X, y = make_classification(\n",
        "    n_samples=1_000, n_features=20, n_informative=2, n_redundant=10, random_state=RANDOM_STATE\n",
        ")  # Generate data\n",
        "\n",
        "X_train, X_test, y_train, y_test = train_test_split(\n",
        "    X, y, test_size=0.8, random_state=RANDOM_STATE\n",
        ")  # Split into test and train set\n",
        "\n",
        "clf = RandomForestClassifier(random_state=RANDOM_STATE)  # Random Forest model\n",
        "clf.fit(X_train, y_train)\n",
        "\n",
        "y_preds_proba = clf.predict_proba(X_test)  # Predicted probabilities\n",
        "y_preds_label = clf.predict(X_test)  # Predicted label"
      ]
    },
    {
      "cell_type": "code",
      "source": [
        "# Probability predictions. First column is for class \"0\", second is for class \"1\"\n",
        "y_preds_proba"
      ],
      "metadata": {
        "colab": {
          "base_uri": "https://localhost:8080/"
        },
        "id": "7p-1yFoB9WM2",
        "outputId": "241c717b-d2a1-4bad-c12c-19a17d61d1da"
      },
      "execution_count": 2,
      "outputs": [
        {
          "output_type": "execute_result",
          "data": {
            "text/plain": [
              "array([[0.99, 0.01],\n",
              "       [0.91, 0.09],\n",
              "       [0.1 , 0.9 ],\n",
              "       ...,\n",
              "       [0.99, 0.01],\n",
              "       [0.09, 0.91],\n",
              "       [0.26, 0.74]])"
            ]
          },
          "metadata": {},
          "execution_count": 2
        }
      ]
    },
    {
      "cell_type": "code",
      "source": [
        "# Label predictions using a standard 0.5 threshold\n",
        "y_preds_label"
      ],
      "metadata": {
        "colab": {
          "base_uri": "https://localhost:8080/"
        },
        "id": "kcSs4EWk9bok",
        "outputId": "58bacca0-1ef4-40f4-a262-29f65ed20045"
      },
      "execution_count": 3,
      "outputs": [
        {
          "output_type": "execute_result",
          "data": {
            "text/plain": [
              "array([0, 0, 1, 1, 0, 0, 1, 0, 0, 1, 1, 1, 0, 0, 1, 1, 1, 0, 1, 1, 0, 1,\n",
              "       0, 0, 1, 0, 0, 0, 1, 1, 1, 1, 0, 1, 1, 0, 1, 0, 0, 0, 1, 0, 0, 0,\n",
              "       1, 0, 1, 0, 1, 0, 0, 1, 0, 0, 0, 0, 0, 0, 0, 0, 1, 1, 0, 0, 0, 1,\n",
              "       0, 1, 1, 1, 1, 1, 0, 0, 0, 0, 0, 1, 0, 0, 0, 0, 1, 1, 1, 0, 0, 0,\n",
              "       0, 0, 1, 1, 1, 0, 1, 1, 1, 0, 0, 1, 1, 1, 0, 1, 1, 1, 0, 1, 1, 0,\n",
              "       1, 1, 1, 0, 0, 0, 1, 0, 1, 0, 0, 0, 0, 1, 0, 1, 1, 1, 0, 0, 0, 0,\n",
              "       1, 0, 0, 1, 1, 1, 0, 0, 0, 1, 1, 0, 1, 0, 0, 0, 1, 1, 1, 0, 0, 0,\n",
              "       0, 0, 0, 1, 0, 0, 0, 1, 0, 1, 1, 1, 0, 1, 0, 0, 1, 0, 1, 1, 0, 1,\n",
              "       0, 1, 0, 1, 0, 1, 0, 1, 0, 1, 0, 1, 1, 1, 1, 1, 1, 0, 1, 0, 1, 1,\n",
              "       1, 1, 1, 1, 1, 1, 1, 1, 1, 0, 0, 0, 0, 0, 0, 1, 1, 0, 1, 1, 0, 1,\n",
              "       1, 0, 1, 0, 1, 1, 1, 1, 0, 0, 0, 0, 0, 1, 0, 0, 1, 0, 0, 0, 1, 0,\n",
              "       0, 0, 0, 0, 0, 1, 1, 0, 0, 0, 0, 1, 0, 0, 0, 1, 0, 1, 0, 0, 1, 0,\n",
              "       1, 0, 1, 1, 1, 0, 1, 1, 1, 0, 0, 0, 0, 1, 1, 0, 0, 0, 1, 1, 1, 1,\n",
              "       0, 0, 1, 0, 1, 0, 0, 0, 1, 1, 0, 0, 1, 1, 0, 1, 1, 0, 0, 0, 1, 0,\n",
              "       1, 0, 1, 1, 1, 1, 1, 0, 1, 1, 0, 1, 1, 1, 1, 1, 0, 1, 0, 0, 0, 0,\n",
              "       0, 1, 0, 1, 1, 0, 0, 0, 0, 1, 0, 1, 0, 0, 0, 1, 1, 1, 1, 0, 1, 1,\n",
              "       1, 1, 1, 0, 0, 0, 0, 0, 0, 1, 1, 1, 1, 1, 0, 1, 0, 1, 0, 0, 1, 0,\n",
              "       1, 0, 1, 1, 1, 1, 0, 1, 0, 1, 1, 1, 1, 0, 0, 0, 1, 1, 1, 0, 0, 0,\n",
              "       1, 1, 1, 0, 0, 0, 1, 0, 1, 1, 0, 1, 0, 0, 0, 1, 0, 1, 0, 1, 1, 1,\n",
              "       0, 1, 0, 0, 0, 1, 1, 1, 0, 0, 1, 0, 1, 1, 1, 1, 0, 1, 1, 0, 0, 0,\n",
              "       1, 1, 0, 1, 0, 1, 0, 0, 0, 1, 1, 1, 1, 1, 0, 0, 0, 0, 0, 1, 1, 0,\n",
              "       1, 1, 0, 0, 0, 0, 0, 1, 1, 0, 0, 0, 1, 1, 0, 0, 1, 1, 0, 1, 0, 1,\n",
              "       1, 1, 0, 1, 1, 0, 0, 0, 0, 1, 0, 1, 1, 1, 0, 1, 1, 1, 1, 0, 0, 0,\n",
              "       0, 1, 1, 0, 1, 1, 0, 1, 1, 1, 0, 1, 0, 1, 1, 1, 1, 1, 1, 0, 0, 1,\n",
              "       0, 0, 0, 0, 0, 0, 0, 0, 0, 0, 1, 1, 1, 1, 1, 0, 0, 1, 0, 0, 0, 1,\n",
              "       1, 1, 1, 1, 0, 1, 1, 1, 0, 1, 1, 0, 0, 1, 1, 0, 0, 1, 0, 0, 1, 0,\n",
              "       0, 0, 1, 1, 1, 0, 0, 1, 0, 0, 1, 1, 1, 0, 0, 1, 1, 1, 1, 0, 0, 1,\n",
              "       1, 0, 1, 0, 0, 0, 0, 1, 0, 1, 0, 1, 0, 1, 1, 0, 1, 0, 0, 1, 0, 1,\n",
              "       0, 0, 0, 0, 0, 1, 0, 0, 0, 0, 0, 0, 1, 1, 1, 1, 0, 0, 1, 0, 1, 0,\n",
              "       1, 1, 1, 1, 1, 0, 1, 1, 0, 1, 1, 0, 0, 1, 0, 1, 1, 0, 0, 0, 0, 1,\n",
              "       0, 1, 1, 0, 1, 0, 1, 0, 0, 1, 0, 1, 1, 0, 1, 1, 0, 1, 1, 1, 1, 0,\n",
              "       0, 0, 1, 0, 1, 0, 1, 1, 0, 0, 0, 1, 1, 1, 0, 1, 1, 1, 0, 0, 1, 0,\n",
              "       1, 1, 0, 1, 1, 0, 1, 0, 1, 1, 0, 0, 0, 1, 0, 1, 0, 0, 0, 1, 0, 1,\n",
              "       1, 1, 1, 1, 0, 1, 1, 0, 1, 0, 0, 1, 0, 1, 0, 0, 0, 1, 1, 1, 0, 0,\n",
              "       0, 0, 1, 0, 1, 1, 0, 1, 0, 1, 0, 1, 0, 0, 1, 1, 1, 0, 1, 0, 0, 0,\n",
              "       0, 1, 1, 0, 1, 0, 1, 1, 1, 1, 1, 1, 1, 0, 1, 0, 0, 0, 0, 1, 0, 1,\n",
              "       0, 0, 1, 1, 1, 0, 1, 1])"
            ]
          },
          "metadata": {},
          "execution_count": 3
        }
      ]
    },
    {
      "cell_type": "markdown",
      "source": [
        "# (1) Plot Confusion Matrix\n",
        "\n",
        "Plot the confusion matrix for the test set."
      ],
      "metadata": {
        "id": "WKbR0QAQ8uR_"
      }
    },
    {
      "cell_type": "code",
      "source": [
        "# Plot the confusion matrix for the test set.\n",
        "from sklearn.metrics import plot_confusion_matrix\n",
        "plot_confusion_matrix(clf, X_test, y_test)"
      ],
      "metadata": {
        "id": "Q62hd8le8tXI",
        "outputId": "69c70738-d12b-49c3-be52-7aee6a5ad6e2",
        "colab": {
          "base_uri": "https://localhost:8080/",
          "height": 350
        }
      },
      "execution_count": 4,
      "outputs": [
        {
          "output_type": "stream",
          "name": "stderr",
          "text": [
            "/usr/local/lib/python3.7/dist-packages/sklearn/utils/deprecation.py:87: FutureWarning: Function plot_confusion_matrix is deprecated; Function `plot_confusion_matrix` is deprecated in 1.0 and will be removed in 1.2. Use one of the class methods: ConfusionMatrixDisplay.from_predictions or ConfusionMatrixDisplay.from_estimator.\n",
            "  warnings.warn(msg, category=FutureWarning)\n"
          ]
        },
        {
          "output_type": "execute_result",
          "data": {
            "text/plain": [
              "<sklearn.metrics._plot.confusion_matrix.ConfusionMatrixDisplay at 0x7fb4697fd190>"
            ]
          },
          "metadata": {},
          "execution_count": 4
        },
        {
          "output_type": "display_data",
          "data": {
            "image/png": "[encoded data removed]",
            "text/plain": [
              "<Figure size 432x288 with 2 Axes>"
            ]
          },
          "metadata": {
            "needs_background": "light"
          }
        }
      ]
    },
    {
      "cell_type": "markdown",
      "source": [
        "# (2) Classification Report\n",
        "\n",
        "Calculate the precision, recall, accuracy and f1-score for the test set."
      ],
      "metadata": {
        "id": "DZUnU72i9fTZ"
      }
    },
    {
      "cell_type": "code",
      "source": [
        "# Calculate the precision, recall, accuracy and f1-score for the test set.\n",
        "from sklearn.metrics import classification_report\n",
        "print(classification_report(y_test, y_preds_label))"
      ],
      "metadata": {
        "id": "PQWHzNkh9n-W",
        "outputId": "c5e95828-f2df-4d0c-b78f-69f01519ceea",
        "colab": {
          "base_uri": "https://localhost:8080/"
        }
      },
      "execution_count": 6,
      "outputs": [
        {
          "output_type": "stream",
          "name": "stdout",
          "text": [
            "              precision    recall  f1-score   support\n",
            "\n",
            "           0       0.84      0.84      0.84       398\n",
            "           1       0.85      0.85      0.85       402\n",
            "\n",
            "    accuracy                           0.84       800\n",
            "   macro avg       0.84      0.84      0.84       800\n",
            "weighted avg       0.84      0.84      0.84       800\n",
            "\n"
          ]
        }
      ]
    },
    {
      "cell_type": "markdown",
      "source": [
        "# (3) Plot ROC Curve and Report AUC\n",
        "\n",
        "Plot the ROC curve and report the AUC for the test set."
      ],
      "metadata": {
        "id": "17J59kEm9txe"
      }
    },
    {
      "cell_type": "code",
      "source": [
        "# Plot the ROC curve and report the AUC for the test set.\n",
        "from sklearn.metrics import plot_roc_curve\n",
        "plot_roc_curve(clf, X_test, y_test)"
      ],
      "metadata": {
        "id": "OZsMh08w9wks",
        "outputId": "e91b075a-5546-443b-eb86-94dd60688a31",
        "colab": {
          "base_uri": "https://localhost:8080/",
          "height": 350
        }
      },
      "execution_count": 8,
      "outputs": [
        {
          "output_type": "stream",
          "name": "stderr",
          "text": [
            "/usr/local/lib/python3.7/dist-packages/sklearn/utils/deprecation.py:87: FutureWarning: Function plot_roc_curve is deprecated; Function :func:`plot_roc_curve` is deprecated in 1.0 and will be removed in 1.2. Use one of the class methods: :meth:`sklearn.metric.RocCurveDisplay.from_predictions` or :meth:`sklearn.metric.RocCurveDisplay.from_estimator`.\n",
            "  warnings.warn(msg, category=FutureWarning)\n"
          ]
        },
        {
          "output_type": "execute_result",
          "data": {
            "text/plain": [
              "<sklearn.metrics._plot.roc_curve.RocCurveDisplay at 0x7fb4691e8f50>"
            ]
          },
          "metadata": {},
          "execution_count": 8
        },
        {
          "output_type": "display_data",
          "data": {
            "image/png": "[encoded data removed]",
            "text/plain": [
              "<Figure size 432x288 with 1 Axes>"
            ]
          },
          "metadata": {
            "needs_background": "light"
          }
        }
      ]
    },
    {
      "cell_type": "markdown",
      "source": [
        "# (4) Expected Calibration Error (ECE), Maximum Calibration Error (MCE), Plot Reliability Diagram\n",
        "\n",
        "Using `calibration_curve`, which you can access via `from sklearn.calibration import calibration_curve`, calculate:\n",
        "\n",
        "ECE when `calibration_curve(..., method=\"quantile\")` -- this produces bins of equal sample size\n",
        "MCE when `calibration_curve(..., method=\"uniform\")` -- this produces bins of equal width\n",
        "\n",
        "Then, plot the reliability diagram for `method=\"quantile\"` and `method=\"uniform\"`. Comment on which one you believe is \"better\" to report (i.e., what are the pros and cons of using \"quantile\" compared to \"uniform\")\n",
        "\n"
      ],
      "metadata": {
        "id": "cR_YGx2w935P"
      }
    },
    {
      "cell_type": "code",
      "source": [
        "# Calculated ECE for calibration_curve(..., strategy=\"quantile\")\n",
        "\n",
        "# Calculate MCE for calibration_curve(..., strategy=\"uniform\")\n",
        "\n",
        "# Plot reliability diagrams for each"
      ],
      "metadata": {
        "id": "sNwfHXYW-icX"
      },
      "execution_count": null,
      "outputs": []
    },
    {
      "cell_type": "markdown",
      "source": [
        "# (5) Brier Score and Log Loss\n",
        "\n",
        "Write your own Brier Score and Log Loss functions for the data from above. Ensure that the outputs equal those from `sklearn`. You can access `sklearn`'s implementation using \n",
        "\n",
        "```\n",
        "from sklearn.metrics import brier_score_loss, log_loss\n",
        "```\n",
        "\n",
        "DO NOT simply write a wrapper for `sklearn`'s implementation. Write your own, test it, and show the results of the test."
      ],
      "metadata": {
        "id": "cLucwaZL-rKn"
      }
    },
    {
      "cell_type": "code",
      "source": [
        "def custom_brier_score(x):\n",
        "  pass\n",
        "\n",
        "def custom_log_loss(x):\n",
        "  pass"
      ],
      "metadata": {
        "id": "ajFjaXZ5-s2c"
      },
      "execution_count": null,
      "outputs": []
    }
  ]
}