{
  "nbformat": 4,
  "nbformat_minor": 0,
  "metadata": {
    "colab": {
      "name": "hw5.ipynb",
      "provenance": [],
      "collapsed_sections": [],
      "include_colab_link": true
    },
    "kernelspec": {
      "name": "python3",
      "display_name": "Python 3"
    },
    "language_info": {
      "name": "python"
    }
  },
  "cells": [
    {
      "cell_type": "markdown",
      "metadata": {
        "id": "view-in-github",
        "colab_type": "text"
      },
      "source": [
        "<a href=\"https://colab.research.google.com/github/VishalShah1999/Visulization_ML/blob/main/vs2530_HW5.ipynb\" target=\"_parent\"><img src=\"https://colab.research.google.com/assets/colab-badge.svg\" alt=\"Open In Colab\"/></a>"
      ]
    },
    {
      "cell_type": "markdown",
      "source": [
        "# Homework 5\n",
        "The main goal of this homework is to use what we have learned from white-box models to understand a black-box model's behavior.\n",
        "\n",
        "We are still going to use the loan application dataset as in the practice 2. Find it here: https://drive.google.com/file/d/186LjbAZoMat91ByH7aJGJ8PnfO2LqKlu/view?usp=sharing\n",
        "\n",
        "Don't forget to specify the filepath on your own Google Drive below.\n",
        "\n",
        "\n",
        "You will need to finish the following subtasks:\n",
        "- (1) Train a surrogate tree-based model to understand the model prediction behaviors of the provided SVM model. \n",
        "- (2) Answer a few questions based on the interpretation of the surrogate model.\n"
      ],
      "metadata": {
        "id": "wpnU-UygZRYY"
      }
    },
    {
      "cell_type": "code",
      "execution_count": 1,
      "metadata": {
        "id": "y6btABhJLZGw"
      },
      "outputs": [],
      "source": [
        "import numpy as np\n",
        "import pandas as pd\n",
        "from sklearn import svm"
      ]
    },
    {
      "cell_type": "markdown",
      "source": [
        "In the column of \"Outcome\",\n",
        "- 0 represents \"will not default\",\n",
        "- 1 represents \"will default\"."
      ],
      "metadata": {
        "id": "ncURRgVdhNaO"
      }
    },
    {
      "cell_type": "code",
      "source": [
        "df = pd.read_csv(filepath_or_buffer=\"cleaned_fico_data.csv\",)\n",
        "df"
      ],
      "metadata": {
        "colab": {
          "base_uri": "https://localhost:8080/",
          "height": 551
        },
        "id": "YfDMCmauTsQ3",
        "outputId": "71c38b0b-e95a-4801-9ea1-7b2aae64372e"
      },
      "execution_count": 2,
      "outputs": [
        {
          "output_type": "execute_result",
          "data": {
            "text/html": [
              "\n",
              "  <div id=\"df-88faa8e6-f150-4170-b1f1-87e2756d2f35\">\n",
              "    <div class=\"colab-df-container\">\n",
              "      <div>\n",
              "<style scoped>\n",
              "    .dataframe tbody tr th:only-of-type {\n",
              "        vertical-align: middle;\n",
              "    }\n",
              "\n",
              "    .dataframe tbody tr th {\n",
              "        vertical-align: top;\n",
              "    }\n",
              "\n",
              "    .dataframe thead th {\n",
              "        text-align: right;\n",
              "    }\n",
              "</style>\n",
              "<table border=\"1\" class=\"dataframe\">\n",
              "  <thead>\n",
              "    <tr style=\"text-align: right;\">\n",
              "      <th></th>\n",
              "      <th>Outcome</th>\n",
              "      <th>External Risk Estimate</th>\n",
              "      <th>Months Since Oldest Trade Open</th>\n",
              "      <th>Months Since Last Trade Open</th>\n",
              "      <th>Average Months in File</th>\n",
              "      <th>Satisfactory Trades</th>\n",
              "      <th>Trades 60+ Ever</th>\n",
              "      <th>Trades 90+ Ever</th>\n",
              "      <th>Bills Paid on Time</th>\n",
              "      <th>Months Since Last Delq.</th>\n",
              "      <th>...</th>\n",
              "      <th>% Installment Trades</th>\n",
              "      <th>Months Since Most Recent Inq</th>\n",
              "      <th>Inq Last 6 Months</th>\n",
              "      <th>Inq Last 6 Months exl. 7 days</th>\n",
              "      <th>Unpaid Balance</th>\n",
              "      <th>Installment Burden</th>\n",
              "      <th>Revolving Trades w/ Balance</th>\n",
              "      <th>Installment Trades w/ Balance</th>\n",
              "      <th>Bank Trades w/ High Utilization Ratio</th>\n",
              "      <th>% Trades w/ Balance</th>\n",
              "    </tr>\n",
              "  </thead>\n",
              "  <tbody>\n",
              "    <tr>\n",
              "      <th>0</th>\n",
              "      <td>0</td>\n",
              "      <td>55</td>\n",
              "      <td>144</td>\n",
              "      <td>4</td>\n",
              "      <td>84</td>\n",
              "      <td>20</td>\n",
              "      <td>3</td>\n",
              "      <td>0</td>\n",
              "      <td>83</td>\n",
              "      <td>2</td>\n",
              "      <td>...</td>\n",
              "      <td>43</td>\n",
              "      <td>0</td>\n",
              "      <td>0</td>\n",
              "      <td>0</td>\n",
              "      <td>33</td>\n",
              "      <td>77</td>\n",
              "      <td>8</td>\n",
              "      <td>1</td>\n",
              "      <td>1</td>\n",
              "      <td>69</td>\n",
              "    </tr>\n",
              "    <tr>\n",
              "      <th>1</th>\n",
              "      <td>0</td>\n",
              "      <td>61</td>\n",
              "      <td>58</td>\n",
              "      <td>15</td>\n",
              "      <td>41</td>\n",
              "      <td>2</td>\n",
              "      <td>4</td>\n",
              "      <td>4</td>\n",
              "      <td>100</td>\n",
              "      <td>150</td>\n",
              "      <td>...</td>\n",
              "      <td>67</td>\n",
              "      <td>0</td>\n",
              "      <td>0</td>\n",
              "      <td>0</td>\n",
              "      <td>0</td>\n",
              "      <td>57</td>\n",
              "      <td>0</td>\n",
              "      <td>2</td>\n",
              "      <td>0</td>\n",
              "      <td>0</td>\n",
              "    </tr>\n",
              "    <tr>\n",
              "      <th>2</th>\n",
              "      <td>0</td>\n",
              "      <td>67</td>\n",
              "      <td>66</td>\n",
              "      <td>5</td>\n",
              "      <td>24</td>\n",
              "      <td>9</td>\n",
              "      <td>0</td>\n",
              "      <td>0</td>\n",
              "      <td>100</td>\n",
              "      <td>150</td>\n",
              "      <td>...</td>\n",
              "      <td>44</td>\n",
              "      <td>0</td>\n",
              "      <td>4</td>\n",
              "      <td>4</td>\n",
              "      <td>53</td>\n",
              "      <td>66</td>\n",
              "      <td>4</td>\n",
              "      <td>2</td>\n",
              "      <td>1</td>\n",
              "      <td>86</td>\n",
              "    </tr>\n",
              "    <tr>\n",
              "      <th>3</th>\n",
              "      <td>0</td>\n",
              "      <td>66</td>\n",
              "      <td>169</td>\n",
              "      <td>1</td>\n",
              "      <td>73</td>\n",
              "      <td>28</td>\n",
              "      <td>1</td>\n",
              "      <td>1</td>\n",
              "      <td>93</td>\n",
              "      <td>76</td>\n",
              "      <td>...</td>\n",
              "      <td>57</td>\n",
              "      <td>0</td>\n",
              "      <td>5</td>\n",
              "      <td>4</td>\n",
              "      <td>72</td>\n",
              "      <td>83</td>\n",
              "      <td>6</td>\n",
              "      <td>4</td>\n",
              "      <td>3</td>\n",
              "      <td>91</td>\n",
              "    </tr>\n",
              "    <tr>\n",
              "      <th>4</th>\n",
              "      <td>0</td>\n",
              "      <td>81</td>\n",
              "      <td>333</td>\n",
              "      <td>27</td>\n",
              "      <td>132</td>\n",
              "      <td>12</td>\n",
              "      <td>0</td>\n",
              "      <td>0</td>\n",
              "      <td>100</td>\n",
              "      <td>150</td>\n",
              "      <td>...</td>\n",
              "      <td>25</td>\n",
              "      <td>0</td>\n",
              "      <td>1</td>\n",
              "      <td>1</td>\n",
              "      <td>51</td>\n",
              "      <td>89</td>\n",
              "      <td>3</td>\n",
              "      <td>1</td>\n",
              "      <td>0</td>\n",
              "      <td>80</td>\n",
              "    </tr>\n",
              "    <tr>\n",
              "      <th>...</th>\n",
              "      <td>...</td>\n",
              "      <td>...</td>\n",
              "      <td>...</td>\n",
              "      <td>...</td>\n",
              "      <td>...</td>\n",
              "      <td>...</td>\n",
              "      <td>...</td>\n",
              "      <td>...</td>\n",
              "      <td>...</td>\n",
              "      <td>...</td>\n",
              "      <td>...</td>\n",
              "      <td>...</td>\n",
              "      <td>...</td>\n",
              "      <td>...</td>\n",
              "      <td>...</td>\n",
              "      <td>...</td>\n",
              "      <td>...</td>\n",
              "      <td>...</td>\n",
              "      <td>...</td>\n",
              "      <td>...</td>\n",
              "      <td>...</td>\n",
              "    </tr>\n",
              "    <tr>\n",
              "      <th>9866</th>\n",
              "      <td>1</td>\n",
              "      <td>73</td>\n",
              "      <td>131</td>\n",
              "      <td>5</td>\n",
              "      <td>57</td>\n",
              "      <td>21</td>\n",
              "      <td>0</td>\n",
              "      <td>0</td>\n",
              "      <td>95</td>\n",
              "      <td>80</td>\n",
              "      <td>...</td>\n",
              "      <td>19</td>\n",
              "      <td>7</td>\n",
              "      <td>0</td>\n",
              "      <td>0</td>\n",
              "      <td>26</td>\n",
              "      <td>81</td>\n",
              "      <td>5</td>\n",
              "      <td>2</td>\n",
              "      <td>0</td>\n",
              "      <td>100</td>\n",
              "    </tr>\n",
              "    <tr>\n",
              "      <th>9867</th>\n",
              "      <td>0</td>\n",
              "      <td>65</td>\n",
              "      <td>147</td>\n",
              "      <td>39</td>\n",
              "      <td>68</td>\n",
              "      <td>11</td>\n",
              "      <td>0</td>\n",
              "      <td>0</td>\n",
              "      <td>92</td>\n",
              "      <td>28</td>\n",
              "      <td>...</td>\n",
              "      <td>42</td>\n",
              "      <td>1</td>\n",
              "      <td>1</td>\n",
              "      <td>1</td>\n",
              "      <td>86</td>\n",
              "      <td>53</td>\n",
              "      <td>2</td>\n",
              "      <td>2</td>\n",
              "      <td>1</td>\n",
              "      <td>80</td>\n",
              "    </tr>\n",
              "    <tr>\n",
              "      <th>9868</th>\n",
              "      <td>0</td>\n",
              "      <td>74</td>\n",
              "      <td>129</td>\n",
              "      <td>6</td>\n",
              "      <td>64</td>\n",
              "      <td>18</td>\n",
              "      <td>1</td>\n",
              "      <td>1</td>\n",
              "      <td>100</td>\n",
              "      <td>150</td>\n",
              "      <td>...</td>\n",
              "      <td>33</td>\n",
              "      <td>3</td>\n",
              "      <td>4</td>\n",
              "      <td>4</td>\n",
              "      <td>6</td>\n",
              "      <td>53</td>\n",
              "      <td>5</td>\n",
              "      <td>3</td>\n",
              "      <td>0</td>\n",
              "      <td>56</td>\n",
              "    </tr>\n",
              "    <tr>\n",
              "      <th>9869</th>\n",
              "      <td>0</td>\n",
              "      <td>72</td>\n",
              "      <td>234</td>\n",
              "      <td>12</td>\n",
              "      <td>113</td>\n",
              "      <td>42</td>\n",
              "      <td>2</td>\n",
              "      <td>2</td>\n",
              "      <td>96</td>\n",
              "      <td>35</td>\n",
              "      <td>...</td>\n",
              "      <td>20</td>\n",
              "      <td>6</td>\n",
              "      <td>0</td>\n",
              "      <td>0</td>\n",
              "      <td>19</td>\n",
              "      <td>47</td>\n",
              "      <td>4</td>\n",
              "      <td>1</td>\n",
              "      <td>0</td>\n",
              "      <td>38</td>\n",
              "    </tr>\n",
              "    <tr>\n",
              "      <th>9870</th>\n",
              "      <td>0</td>\n",
              "      <td>66</td>\n",
              "      <td>28</td>\n",
              "      <td>1</td>\n",
              "      <td>17</td>\n",
              "      <td>4</td>\n",
              "      <td>0</td>\n",
              "      <td>0</td>\n",
              "      <td>100</td>\n",
              "      <td>150</td>\n",
              "      <td>...</td>\n",
              "      <td>60</td>\n",
              "      <td>3</td>\n",
              "      <td>3</td>\n",
              "      <td>2</td>\n",
              "      <td>67</td>\n",
              "      <td>85</td>\n",
              "      <td>2</td>\n",
              "      <td>1</td>\n",
              "      <td>0</td>\n",
              "      <td>100</td>\n",
              "    </tr>\n",
              "  </tbody>\n",
              "</table>\n",
              "<p>9871 rows × 24 columns</p>\n",
              "</div>\n",
              "      <button class=\"colab-df-convert\" onclick=\"convertToInteractive('df-88faa8e6-f150-4170-b1f1-87e2756d2f35')\"\n",
              "              title=\"Convert this dataframe to an interactive table.\"\n",
              "              style=\"display:none;\">\n",
              "        \n",
              "  <svg xmlns=\"http://www.w3.org/2000/svg\" height=\"24px\"viewBox=\"0 0 24 24\"\n",
              "       width=\"24px\">\n",
              "    <path d=\"M0 0h24v24H0V0z\" fill=\"none\"/>\n",
              "    <path d=\"M18.56 5.44l.94 2.06.94-2.06 2.06-.94-2.06-.94-.94-2.06-.94 2.06-2.06.94zm-11 1L8.5 8.5l.94-2.06 2.06-.94-2.06-.94L8.5 2.5l-.94 2.06-2.06.94zm10 10l.94 2.06.94-2.06 2.06-.94-2.06-.94-.94-2.06-.94 2.06-2.06.94z\"/><path d=\"M17.41 7.96l-1.37-1.37c-.4-.4-.92-.59-1.43-.59-.52 0-1.04.2-1.43.59L10.3 9.45l-7.72 7.72c-.78.78-.78 2.05 0 2.83L4 21.41c.39.39.9.59 1.41.59.51 0 1.02-.2 1.41-.59l7.78-7.78 2.81-2.81c.8-.78.8-2.07 0-2.86zM5.41 20L4 18.59l7.72-7.72 1.47 1.35L5.41 20z\"/>\n",
              "  </svg>\n",
              "      </button>\n",
              "      \n",
              "  <style>\n",
              "    .colab-df-container {\n",
              "      display:flex;\n",
              "      flex-wrap:wrap;\n",
              "      gap: 12px;\n",
              "    }\n",
              "\n",
              "    .colab-df-convert {\n",
              "      background-color: #E8F0FE;\n",
              "      border: none;\n",
              "      border-radius: 50%;\n",
              "      cursor: pointer;\n",
              "      display: none;\n",
              "      fill: #1967D2;\n",
              "      height: 32px;\n",
              "      padding: 0 0 0 0;\n",
              "      width: 32px;\n",
              "    }\n",
              "\n",
              "    .colab-df-convert:hover {\n",
              "      background-color: #E2EBFA;\n",
              "      box-shadow: 0px 1px 2px rgba(60, 64, 67, 0.3), 0px 1px 3px 1px rgba(60, 64, 67, 0.15);\n",
              "      fill: #174EA6;\n",
              "    }\n",
              "\n",
              "    [theme=dark] .colab-df-convert {\n",
              "      background-color: #3B4455;\n",
              "      fill: #D2E3FC;\n",
              "    }\n",
              "\n",
              "    [theme=dark] .colab-df-convert:hover {\n",
              "      background-color: #434B5C;\n",
              "      box-shadow: 0px 1px 3px 1px rgba(0, 0, 0, 0.15);\n",
              "      filter: drop-shadow(0px 1px 2px rgba(0, 0, 0, 0.3));\n",
              "      fill: #FFFFFF;\n",
              "    }\n",
              "  </style>\n",
              "\n",
              "      <script>\n",
              "        const buttonEl =\n",
              "          document.querySelector('#df-88faa8e6-f150-4170-b1f1-87e2756d2f35 button.colab-df-convert');\n",
              "        buttonEl.style.display =\n",
              "          google.colab.kernel.accessAllowed ? 'block' : 'none';\n",
              "\n",
              "        async function convertToInteractive(key) {\n",
              "          const element = document.querySelector('#df-88faa8e6-f150-4170-b1f1-87e2756d2f35');\n",
              "          const dataTable =\n",
              "            await google.colab.kernel.invokeFunction('convertToInteractive',\n",
              "                                                     [key], {});\n",
              "          if (!dataTable) return;\n",
              "\n",
              "          const docLinkHtml = 'Like what you see? Visit the ' +\n",
              "            '<a target=\"_blank\" href=https://colab.research.google.com/notebooks/data_table.ipynb>data table notebook</a>'\n",
              "            + ' to learn more about interactive tables.';\n",
              "          element.innerHTML = '';\n",
              "          dataTable['output_type'] = 'display_data';\n",
              "          await google.colab.output.renderOutput(dataTable, element);\n",
              "          const docLink = document.createElement('div');\n",
              "          docLink.innerHTML = docLinkHtml;\n",
              "          element.appendChild(docLink);\n",
              "        }\n",
              "      </script>\n",
              "    </div>\n",
              "  </div>\n",
              "  "
            ],
            "text/plain": [
              "      Outcome  External Risk Estimate  Months Since Oldest Trade Open  \\\n",
              "0           0                      55                             144   \n",
              "1           0                      61                              58   \n",
              "2           0                      67                              66   \n",
              "3           0                      66                             169   \n",
              "4           0                      81                             333   \n",
              "...       ...                     ...                             ...   \n",
              "9866        1                      73                             131   \n",
              "9867        0                      65                             147   \n",
              "9868        0                      74                             129   \n",
              "9869        0                      72                             234   \n",
              "9870        0                      66                              28   \n",
              "\n",
              "      Months Since Last Trade Open  Average Months in File  \\\n",
              "0                                4                      84   \n",
              "1                               15                      41   \n",
              "2                                5                      24   \n",
              "3                                1                      73   \n",
              "4                               27                     132   \n",
              "...                            ...                     ...   \n",
              "9866                             5                      57   \n",
              "9867                            39                      68   \n",
              "9868                             6                      64   \n",
              "9869                            12                     113   \n",
              "9870                             1                      17   \n",
              "\n",
              "      Satisfactory Trades  Trades 60+ Ever  Trades 90+ Ever  \\\n",
              "0                      20                3                0   \n",
              "1                       2                4                4   \n",
              "2                       9                0                0   \n",
              "3                      28                1                1   \n",
              "4                      12                0                0   \n",
              "...                   ...              ...              ...   \n",
              "9866                   21                0                0   \n",
              "9867                   11                0                0   \n",
              "9868                   18                1                1   \n",
              "9869                   42                2                2   \n",
              "9870                    4                0                0   \n",
              "\n",
              "      Bills Paid on Time  Months Since Last Delq.  ...  % Installment Trades  \\\n",
              "0                     83                        2  ...                    43   \n",
              "1                    100                      150  ...                    67   \n",
              "2                    100                      150  ...                    44   \n",
              "3                     93                       76  ...                    57   \n",
              "4                    100                      150  ...                    25   \n",
              "...                  ...                      ...  ...                   ...   \n",
              "9866                  95                       80  ...                    19   \n",
              "9867                  92                       28  ...                    42   \n",
              "9868                 100                      150  ...                    33   \n",
              "9869                  96                       35  ...                    20   \n",
              "9870                 100                      150  ...                    60   \n",
              "\n",
              "      Months Since Most Recent Inq  Inq Last 6 Months  \\\n",
              "0                                0                  0   \n",
              "1                                0                  0   \n",
              "2                                0                  4   \n",
              "3                                0                  5   \n",
              "4                                0                  1   \n",
              "...                            ...                ...   \n",
              "9866                             7                  0   \n",
              "9867                             1                  1   \n",
              "9868                             3                  4   \n",
              "9869                             6                  0   \n",
              "9870                             3                  3   \n",
              "\n",
              "      Inq Last 6 Months exl. 7 days  Unpaid Balance  Installment Burden  \\\n",
              "0                                 0              33                  77   \n",
              "1                                 0               0                  57   \n",
              "2                                 4              53                  66   \n",
              "3                                 4              72                  83   \n",
              "4                                 1              51                  89   \n",
              "...                             ...             ...                 ...   \n",
              "9866                              0              26                  81   \n",
              "9867                              1              86                  53   \n",
              "9868                              4               6                  53   \n",
              "9869                              0              19                  47   \n",
              "9870                              2              67                  85   \n",
              "\n",
              "      Revolving Trades w/ Balance  Installment Trades w/ Balance  \\\n",
              "0                               8                              1   \n",
              "1                               0                              2   \n",
              "2                               4                              2   \n",
              "3                               6                              4   \n",
              "4                               3                              1   \n",
              "...                           ...                            ...   \n",
              "9866                            5                              2   \n",
              "9867                            2                              2   \n",
              "9868                            5                              3   \n",
              "9869                            4                              1   \n",
              "9870                            2                              1   \n",
              "\n",
              "      Bank Trades w/ High Utilization Ratio  % Trades w/ Balance  \n",
              "0                                         1                   69  \n",
              "1                                         0                    0  \n",
              "2                                         1                   86  \n",
              "3                                         3                   91  \n",
              "4                                         0                   80  \n",
              "...                                     ...                  ...  \n",
              "9866                                      0                  100  \n",
              "9867                                      1                   80  \n",
              "9868                                      0                   56  \n",
              "9869                                      0                   38  \n",
              "9870                                      0                  100  \n",
              "\n",
              "[9871 rows x 24 columns]"
            ]
          },
          "metadata": {},
          "execution_count": 2
        }
      ]
    },
    {
      "cell_type": "code",
      "source": [
        "X = df.drop(columns=['Outcome']).values\n",
        "y = df['Outcome'].values"
      ],
      "metadata": {
        "id": "EQYI4a42T3E9"
      },
      "execution_count": 3,
      "outputs": []
    },
    {
      "cell_type": "code",
      "source": [
        "from sklearn.model_selection import train_test_split\n",
        "\n",
        "X_train, X_test, y_train, y_test = train_test_split(X, y, test_size=0.2, random_state=42)"
      ],
      "metadata": {
        "id": "T5TSqFWCVRER"
      },
      "execution_count": 4,
      "outputs": []
    },
    {
      "cell_type": "code",
      "source": [
        "'''train a decision tree model'''\n",
        "clf = svm.SVC(kernel=\"linear\", C=0.001, probability=True)\n",
        "clf.fit(X_train, y_train)"
      ],
      "metadata": {
        "id": "SBDq6aCzVhVw",
        "colab": {
          "base_uri": "https://localhost:8080/"
        },
        "outputId": "11b05c69-1fca-4b61-e7c0-ca4e6ca6e1b8"
      },
      "execution_count": 5,
      "outputs": [
        {
          "output_type": "execute_result",
          "data": {
            "text/plain": [
              "SVC(C=0.001, kernel='linear', probability=True)"
            ]
          },
          "metadata": {},
          "execution_count": 5
        }
      ]
    },
    {
      "cell_type": "code",
      "source": [
        "y_pred = clf.predict(X_test)"
      ],
      "metadata": {
        "id": "915Ae95N5dHE"
      },
      "execution_count": 6,
      "outputs": []
    },
    {
      "cell_type": "code",
      "source": [
        "print(\"training accuracy:\", clf.score(X_train, y_train))\n",
        "print(\"testing accuracy:\", clf.score(X_test, y_test))"
      ],
      "metadata": {
        "colab": {
          "base_uri": "https://localhost:8080/"
        },
        "id": "XhTg72xZfyu_",
        "outputId": "cf0e6685-c886-46a4-b71d-9b844c6732e5"
      },
      "execution_count": 7,
      "outputs": [
        {
          "output_type": "stream",
          "name": "stdout",
          "text": [
            "training accuracy: 0.7310030395136778\n",
            "testing accuracy: 0.7281012658227848\n"
          ]
        }
      ]
    },
    {
      "cell_type": "markdown",
      "source": [
        "## Please train a surrogate model to approximate the original model's behavior on the **test set**?\n",
        "\n",
        "How can we do that?\n",
        "\n",
        "We can use the original model input (`X_test`), and the model output (but not the labels/ground truth) to train an interpretable surrogate model, for example, a decision tree, or a rule set.\n",
        "\n",
        "\n",
        "Please include your surrogate model training code below. You can add or remove any code blocks."
      ],
      "metadata": {
        "id": "Y-ezhT9bgLE0"
      }
    },
    {
      "cell_type": "code",
      "source": [
        "from sklearn import tree\n",
        "\n",
        "tree_model = tree.DecisionTreeClassifier(min_samples_split=40, max_depth=5)\n",
        "tree_model = tree_model.fit(X_test, y_pred)"
      ],
      "metadata": {
        "id": "NErKoqKLgJrh"
      },
      "execution_count": 9,
      "outputs": []
    },
    {
      "cell_type": "code",
      "source": [
        "y_tree_pred = tree_model.predict(X_test)"
      ],
      "metadata": {
        "id": "6c3b37dW-MF1"
      },
      "execution_count": 10,
      "outputs": []
    },
    {
      "cell_type": "code",
      "source": [
        "from sklearn.metrics import accuracy_score\n",
        "accuracy_score(y_test, y_tree_pred)"
      ],
      "metadata": {
        "id": "k29l_p6n_lfc",
        "outputId": "cb451181-3457-44d9-93de-0698f56770fa",
        "colab": {
          "base_uri": "https://localhost:8080/"
        }
      },
      "execution_count": 11,
      "outputs": [
        {
          "output_type": "execute_result",
          "data": {
            "text/plain": [
              "0.7265822784810126"
            ]
          },
          "metadata": {},
          "execution_count": 11
        }
      ]
    },
    {
      "cell_type": "code",
      "source": [
        "import graphviz\n",
        "\n",
        "target_names = ['not default', 'default']\n",
        "dot_data = tree.export_graphviz(tree_model, out_file=None, \n",
        "                                feature_names=df.columns[1:],\n",
        "                                class_names=target_names,\n",
        "                                filled=True, rounded=True, \n",
        "                                special_characters=True)  \n",
        "graph = graphviz.Source(dot_data)  \n",
        "graph"
      ],
      "metadata": {
        "id": "6joY8lNqh_4n",
        "outputId": "c0888bb7-350a-4784-a331-2327b51b7de3",
        "colab": {
          "base_uri": "https://localhost:8080/",
          "height": 936
        }
      },
      "execution_count": 12,
      "outputs": [
        {
          "output_type": "execute_result",
          "data": {
            "text/plain": [
              "<graphviz.files.Source at 0x7fe86a32ec90>"
            ],
            "image/svg+xml": "<?xml version=\"1.0\" encoding=\"UTF-8\" standalone=\"no\"?>\n<!DOCTYPE svg PUBLIC \"-//W3C//DTD SVG 1.1//EN\"\n \"http://www.w3.org/Graphics/SVG/1.1/DTD/svg11.dtd\">\n<!-- Generated by graphviz version 2.40.1 (20161225.0304)\n -->\n<!-- Title: Tree Pages: 1 -->\n<svg width=\"2183pt\" height=\"671pt\"\n viewBox=\"0.00 0.00 2183.00 671.00\" xmlns=\"http://www.w3.org/2000/svg\" xmlns:xlink=\"http://www.w3.org/1999/xlink\">\n<g id=\"graph0\" class=\"graph\" transform=\"scale(1 1) rotate(0) translate(4 667)\">\n<title>Tree</title>\n<polygon fill=\"#ffffff\" stroke=\"transparent\" points=\"-4,4 -4,-667 2179,-667 2179,4 -4,4\"/>\n<!-- 0 -->\n<g id=\"node1\" class=\"node\">\n<title>0</title>\n<path fill=\"#fdf5ef\" stroke=\"#000000\" d=\"M1161,-663C1161,-663 979,-663 979,-663 973,-663 967,-657 967,-651 967,-651 967,-592 967,-592 967,-586 973,-580 979,-580 979,-580 1161,-580 1161,-580 1167,-580 1173,-586 1173,-592 1173,-592 1173,-651 1173,-651 1173,-657 1167,-663 1161,-663\"/>\n<text text-anchor=\"start\" x=\"975\" y=\"-647.8\" font-family=\"Helvetica,sans-Serif\" font-size=\"14.00\" fill=\"#000000\">External Risk Estimate ≤ 71.5</text>\n<text text-anchor=\"start\" x=\"1032\" y=\"-632.8\" font-family=\"Helvetica,sans-Serif\" font-size=\"14.00\" fill=\"#000000\">gini = 0.499</text>\n<text text-anchor=\"start\" x=\"1018\" y=\"-617.8\" font-family=\"Helvetica,sans-Serif\" font-size=\"14.00\" fill=\"#000000\">samples = 1975</text>\n<text text-anchor=\"start\" x=\"1008\" y=\"-602.8\" font-family=\"Helvetica,sans-Serif\" font-size=\"14.00\" fill=\"#000000\">value = [1029, 946]</text>\n<text text-anchor=\"start\" x=\"1011\" y=\"-587.8\" font-family=\"Helvetica,sans-Serif\" font-size=\"14.00\" fill=\"#000000\">class = not default</text>\n</g>\n<!-- 1 -->\n<g id=\"node2\" class=\"node\">\n<title>1</title>\n<path fill=\"#e78c4b\" stroke=\"#000000\" d=\"M982.5,-544C982.5,-544 821.5,-544 821.5,-544 815.5,-544 809.5,-538 809.5,-532 809.5,-532 809.5,-473 809.5,-473 809.5,-467 815.5,-461 821.5,-461 821.5,-461 982.5,-461 982.5,-461 988.5,-461 994.5,-467 994.5,-473 994.5,-473 994.5,-532 994.5,-532 994.5,-538 988.5,-544 982.5,-544\"/>\n<text text-anchor=\"start\" x=\"817.5\" y=\"-528.8\" font-family=\"Helvetica,sans-Serif\" font-size=\"14.00\" fill=\"#000000\">Satisfactory Trades ≤ 34.5</text>\n<text text-anchor=\"start\" x=\"868.5\" y=\"-513.8\" font-family=\"Helvetica,sans-Serif\" font-size=\"14.00\" fill=\"#000000\">gini = 0.15</text>\n<text text-anchor=\"start\" x=\"854\" y=\"-498.8\" font-family=\"Helvetica,sans-Serif\" font-size=\"14.00\" fill=\"#000000\">samples = 943</text>\n<text text-anchor=\"start\" x=\"848\" y=\"-483.8\" font-family=\"Helvetica,sans-Serif\" font-size=\"14.00\" fill=\"#000000\">value = [866, 77]</text>\n<text text-anchor=\"start\" x=\"843\" y=\"-468.8\" font-family=\"Helvetica,sans-Serif\" font-size=\"14.00\" fill=\"#000000\">class = not default</text>\n</g>\n<!-- 0&#45;&gt;1 -->\n<g id=\"edge1\" class=\"edge\">\n<title>0&#45;&gt;1</title>\n<path fill=\"none\" stroke=\"#000000\" d=\"M1011.2418,-579.8796C997.6857,-570.2774 983.1628,-559.9903 969.2754,-550.1534\"/>\n<polygon fill=\"#000000\" stroke=\"#000000\" points=\"970.9084,-547.021 960.7251,-544.0969 966.8623,-552.7332 970.9084,-547.021\"/>\n<text text-anchor=\"middle\" x=\"964.9325\" y=\"-565.0403\" font-family=\"Helvetica,sans-Serif\" font-size=\"14.00\" fill=\"#000000\">True</text>\n</g>\n<!-- 18 -->\n<g id=\"node19\" class=\"node\">\n<title>18</title>\n<path fill=\"#5eafea\" stroke=\"#000000\" d=\"M1429,-544C1429,-544 1247,-544 1247,-544 1241,-544 1235,-538 1235,-532 1235,-532 1235,-473 1235,-473 1235,-467 1241,-461 1247,-461 1247,-461 1429,-461 1429,-461 1435,-461 1441,-467 1441,-473 1441,-473 1441,-532 1441,-532 1441,-538 1435,-544 1429,-544\"/>\n<text text-anchor=\"start\" x=\"1243\" y=\"-528.8\" font-family=\"Helvetica,sans-Serif\" font-size=\"14.00\" fill=\"#000000\">External Risk Estimate ≤ 76.5</text>\n<text text-anchor=\"start\" x=\"1300\" y=\"-513.8\" font-family=\"Helvetica,sans-Serif\" font-size=\"14.00\" fill=\"#000000\">gini = 0.266</text>\n<text text-anchor=\"start\" x=\"1286\" y=\"-498.8\" font-family=\"Helvetica,sans-Serif\" font-size=\"14.00\" fill=\"#000000\">samples = 1032</text>\n<text text-anchor=\"start\" x=\"1280\" y=\"-483.8\" font-family=\"Helvetica,sans-Serif\" font-size=\"14.00\" fill=\"#000000\">value = [163, 869]</text>\n<text text-anchor=\"start\" x=\"1291\" y=\"-468.8\" font-family=\"Helvetica,sans-Serif\" font-size=\"14.00\" fill=\"#000000\">class = default</text>\n</g>\n<!-- 0&#45;&gt;18 -->\n<g id=\"edge18\" class=\"edge\">\n<title>0&#45;&gt;18</title>\n<path fill=\"none\" stroke=\"#000000\" d=\"M1163.7334,-579.8796C1186.7866,-569.6433 1211.5927,-558.6286 1235.0546,-548.2108\"/>\n<polygon fill=\"#000000\" stroke=\"#000000\" points=\"1236.6004,-551.354 1244.3195,-544.0969 1233.7596,-544.9564 1236.6004,-551.354\"/>\n<text text-anchor=\"middle\" x=\"1235.337\" y=\"-563.7275\" font-family=\"Helvetica,sans-Serif\" font-size=\"14.00\" fill=\"#000000\">False</text>\n</g>\n<!-- 2 -->\n<g id=\"node3\" class=\"node\">\n<title>2</title>\n<path fill=\"#e68742\" stroke=\"#000000\" d=\"M707.5,-425C707.5,-425 514.5,-425 514.5,-425 508.5,-425 502.5,-419 502.5,-413 502.5,-413 502.5,-354 502.5,-354 502.5,-348 508.5,-342 514.5,-342 514.5,-342 707.5,-342 707.5,-342 713.5,-342 719.5,-348 719.5,-354 719.5,-354 719.5,-413 719.5,-413 719.5,-419 713.5,-425 707.5,-425\"/>\n<text text-anchor=\"start\" x=\"510.5\" y=\"-409.8\" font-family=\"Helvetica,sans-Serif\" font-size=\"14.00\" fill=\"#000000\">Average Months in File ≤ 123.5</text>\n<text text-anchor=\"start\" x=\"573\" y=\"-394.8\" font-family=\"Helvetica,sans-Serif\" font-size=\"14.00\" fill=\"#000000\">gini = 0.087</text>\n<text text-anchor=\"start\" x=\"563\" y=\"-379.8\" font-family=\"Helvetica,sans-Serif\" font-size=\"14.00\" fill=\"#000000\">samples = 833</text>\n<text text-anchor=\"start\" x=\"557\" y=\"-364.8\" font-family=\"Helvetica,sans-Serif\" font-size=\"14.00\" fill=\"#000000\">value = [795, 38]</text>\n<text text-anchor=\"start\" x=\"552\" y=\"-349.8\" font-family=\"Helvetica,sans-Serif\" font-size=\"14.00\" fill=\"#000000\">class = not default</text>\n</g>\n<!-- 1&#45;&gt;2 -->\n<g id=\"edge2\" class=\"edge\">\n<title>1&#45;&gt;2</title>\n<path fill=\"none\" stroke=\"#000000\" d=\"M809.1257,-464.5205C781.3589,-453.1657 750.637,-440.6024 721.8386,-428.8257\"/>\n<polygon fill=\"#000000\" stroke=\"#000000\" points=\"723.143,-425.5779 712.5622,-425.0323 720.4934,-432.0571 723.143,-425.5779\"/>\n</g>\n<!-- 11 -->\n<g id=\"node12\" class=\"node\">\n<title>11</title>\n<path fill=\"#f3c6a6\" stroke=\"#000000\" d=\"M993,-425C993,-425 811,-425 811,-425 805,-425 799,-419 799,-413 799,-413 799,-354 799,-354 799,-348 805,-342 811,-342 811,-342 993,-342 993,-342 999,-342 1005,-348 1005,-354 1005,-354 1005,-413 1005,-413 1005,-419 999,-425 993,-425\"/>\n<text text-anchor=\"start\" x=\"807\" y=\"-409.8\" font-family=\"Helvetica,sans-Serif\" font-size=\"14.00\" fill=\"#000000\">External Risk Estimate ≤ 68.5</text>\n<text text-anchor=\"start\" x=\"864\" y=\"-394.8\" font-family=\"Helvetica,sans-Serif\" font-size=\"14.00\" fill=\"#000000\">gini = 0.458</text>\n<text text-anchor=\"start\" x=\"854\" y=\"-379.8\" font-family=\"Helvetica,sans-Serif\" font-size=\"14.00\" fill=\"#000000\">samples = 110</text>\n<text text-anchor=\"start\" x=\"852\" y=\"-364.8\" font-family=\"Helvetica,sans-Serif\" font-size=\"14.00\" fill=\"#000000\">value = [71, 39]</text>\n<text text-anchor=\"start\" x=\"843\" y=\"-349.8\" font-family=\"Helvetica,sans-Serif\" font-size=\"14.00\" fill=\"#000000\">class = not default</text>\n</g>\n<!-- 1&#45;&gt;11 -->\n<g id=\"edge11\" class=\"edge\">\n<title>1&#45;&gt;11</title>\n<path fill=\"none\" stroke=\"#000000\" d=\"M902,-460.8796C902,-452.6838 902,-443.9891 902,-435.5013\"/>\n<polygon fill=\"#000000\" stroke=\"#000000\" points=\"905.5001,-435.298 902,-425.2981 898.5001,-435.2981 905.5001,-435.298\"/>\n</g>\n<!-- 3 -->\n<g id=\"node4\" class=\"node\">\n<title>3</title>\n<path fill=\"#e6853f\" stroke=\"#000000\" d=\"M512,-306C512,-306 330,-306 330,-306 324,-306 318,-300 318,-294 318,-294 318,-235 318,-235 318,-229 324,-223 330,-223 330,-223 512,-223 512,-223 518,-223 524,-229 524,-235 524,-235 524,-294 524,-294 524,-300 518,-306 512,-306\"/>\n<text text-anchor=\"start\" x=\"326\" y=\"-290.8\" font-family=\"Helvetica,sans-Serif\" font-size=\"14.00\" fill=\"#000000\">External Risk Estimate ≤ 69.5</text>\n<text text-anchor=\"start\" x=\"383\" y=\"-275.8\" font-family=\"Helvetica,sans-Serif\" font-size=\"14.00\" fill=\"#000000\">gini = 0.061</text>\n<text text-anchor=\"start\" x=\"373\" y=\"-260.8\" font-family=\"Helvetica,sans-Serif\" font-size=\"14.00\" fill=\"#000000\">samples = 795</text>\n<text text-anchor=\"start\" x=\"367\" y=\"-245.8\" font-family=\"Helvetica,sans-Serif\" font-size=\"14.00\" fill=\"#000000\">value = [770, 25]</text>\n<text text-anchor=\"start\" x=\"362\" y=\"-230.8\" font-family=\"Helvetica,sans-Serif\" font-size=\"14.00\" fill=\"#000000\">class = not default</text>\n</g>\n<!-- 2&#45;&gt;3 -->\n<g id=\"edge3\" class=\"edge\">\n<title>2&#45;&gt;3</title>\n<path fill=\"none\" stroke=\"#000000\" d=\"M544.5472,-341.8796C528.9267,-332.0962 512.171,-321.6019 496.1971,-311.5971\"/>\n<polygon fill=\"#000000\" stroke=\"#000000\" points=\"497.7481,-308.4387 487.4153,-306.0969 494.0324,-314.3712 497.7481,-308.4387\"/>\n</g>\n<!-- 10 -->\n<g id=\"node11\" class=\"node\">\n<title>10</title>\n<path fill=\"#f3c3a0\" stroke=\"#000000\" d=\"M666,-298.5C666,-298.5 556,-298.5 556,-298.5 550,-298.5 544,-292.5 544,-286.5 544,-286.5 544,-242.5 544,-242.5 544,-236.5 550,-230.5 556,-230.5 556,-230.5 666,-230.5 666,-230.5 672,-230.5 678,-236.5 678,-242.5 678,-242.5 678,-286.5 678,-286.5 678,-292.5 672,-298.5 666,-298.5\"/>\n<text text-anchor=\"start\" x=\"577.5\" y=\"-283.3\" font-family=\"Helvetica,sans-Serif\" font-size=\"14.00\" fill=\"#000000\">gini = 0.45</text>\n<text text-anchor=\"start\" x=\"567\" y=\"-268.3\" font-family=\"Helvetica,sans-Serif\" font-size=\"14.00\" fill=\"#000000\">samples = 38</text>\n<text text-anchor=\"start\" x=\"561\" y=\"-253.3\" font-family=\"Helvetica,sans-Serif\" font-size=\"14.00\" fill=\"#000000\">value = [25, 13]</text>\n<text text-anchor=\"start\" x=\"552\" y=\"-238.3\" font-family=\"Helvetica,sans-Serif\" font-size=\"14.00\" fill=\"#000000\">class = not default</text>\n</g>\n<!-- 2&#45;&gt;10 -->\n<g id=\"edge10\" class=\"edge\">\n<title>2&#45;&gt;10</title>\n<path fill=\"none\" stroke=\"#000000\" d=\"M611,-341.8796C611,-331.2134 611,-319.7021 611,-308.9015\"/>\n<polygon fill=\"#000000\" stroke=\"#000000\" points=\"614.5001,-308.8149 611,-298.8149 607.5001,-308.815 614.5001,-308.8149\"/>\n</g>\n<!-- 4 -->\n<g id=\"node5\" class=\"node\">\n<title>4</title>\n<path fill=\"#e5833c\" stroke=\"#000000\" d=\"M305.5,-187C305.5,-187 132.5,-187 132.5,-187 126.5,-187 120.5,-181 120.5,-175 120.5,-175 120.5,-116 120.5,-116 120.5,-110 126.5,-104 132.5,-104 132.5,-104 305.5,-104 305.5,-104 311.5,-104 317.5,-110 317.5,-116 317.5,-116 317.5,-175 317.5,-175 317.5,-181 311.5,-187 305.5,-187\"/>\n<text text-anchor=\"start\" x=\"128.5\" y=\"-171.8\" font-family=\"Helvetica,sans-Serif\" font-size=\"14.00\" fill=\"#000000\">% Trades w/ Balance ≤ 22.0</text>\n<text text-anchor=\"start\" x=\"181\" y=\"-156.8\" font-family=\"Helvetica,sans-Serif\" font-size=\"14.00\" fill=\"#000000\">gini = 0.028</text>\n<text text-anchor=\"start\" x=\"171\" y=\"-141.8\" font-family=\"Helvetica,sans-Serif\" font-size=\"14.00\" fill=\"#000000\">samples = 695</text>\n<text text-anchor=\"start\" x=\"165\" y=\"-126.8\" font-family=\"Helvetica,sans-Serif\" font-size=\"14.00\" fill=\"#000000\">value = [685, 10]</text>\n<text text-anchor=\"start\" x=\"160\" y=\"-111.8\" font-family=\"Helvetica,sans-Serif\" font-size=\"14.00\" fill=\"#000000\">class = not default</text>\n</g>\n<!-- 3&#45;&gt;4 -->\n<g id=\"edge4\" class=\"edge\">\n<title>3&#45;&gt;4</title>\n<path fill=\"none\" stroke=\"#000000\" d=\"M350.3502,-222.8796C333.5894,-213.0056 315.5992,-202.4075 298.4748,-192.3193\"/>\n<polygon fill=\"#000000\" stroke=\"#000000\" points=\"300.0025,-189.1571 289.6099,-187.0969 296.4494,-195.1884 300.0025,-189.1571\"/>\n</g>\n<!-- 7 -->\n<g id=\"node8\" class=\"node\">\n<title>7</title>\n<path fill=\"#ea975c\" stroke=\"#000000\" d=\"M491,-187C491,-187 351,-187 351,-187 345,-187 339,-181 339,-175 339,-175 339,-116 339,-116 339,-110 345,-104 351,-104 351,-104 491,-104 491,-104 497,-104 503,-110 503,-116 503,-116 503,-175 503,-175 503,-181 497,-187 491,-187\"/>\n<text text-anchor=\"start\" x=\"347\" y=\"-171.8\" font-family=\"Helvetica,sans-Serif\" font-size=\"14.00\" fill=\"#000000\">Unpaid Balance ≤ 10.5</text>\n<text text-anchor=\"start\" x=\"383\" y=\"-156.8\" font-family=\"Helvetica,sans-Serif\" font-size=\"14.00\" fill=\"#000000\">gini = 0.255</text>\n<text text-anchor=\"start\" x=\"373\" y=\"-141.8\" font-family=\"Helvetica,sans-Serif\" font-size=\"14.00\" fill=\"#000000\">samples = 100</text>\n<text text-anchor=\"start\" x=\"371\" y=\"-126.8\" font-family=\"Helvetica,sans-Serif\" font-size=\"14.00\" fill=\"#000000\">value = [85, 15]</text>\n<text text-anchor=\"start\" x=\"362\" y=\"-111.8\" font-family=\"Helvetica,sans-Serif\" font-size=\"14.00\" fill=\"#000000\">class = not default</text>\n</g>\n<!-- 3&#45;&gt;7 -->\n<g id=\"edge7\" class=\"edge\">\n<title>3&#45;&gt;7</title>\n<path fill=\"none\" stroke=\"#000000\" d=\"M421,-222.8796C421,-214.6838 421,-205.9891 421,-197.5013\"/>\n<polygon fill=\"#000000\" stroke=\"#000000\" points=\"424.5001,-197.298 421,-187.2981 417.5001,-197.2981 424.5001,-197.298\"/>\n</g>\n<!-- 5 -->\n<g id=\"node6\" class=\"node\">\n<title>5</title>\n<path fill=\"#ffffff\" stroke=\"#000000\" d=\"M122,-68C122,-68 12,-68 12,-68 6,-68 0,-62 0,-56 0,-56 0,-12 0,-12 0,-6 6,0 12,0 12,0 122,0 122,0 128,0 134,-6 134,-12 134,-12 134,-56 134,-56 134,-62 128,-68 122,-68\"/>\n<text text-anchor=\"start\" x=\"37.5\" y=\"-52.8\" font-family=\"Helvetica,sans-Serif\" font-size=\"14.00\" fill=\"#000000\">gini = 0.5</text>\n<text text-anchor=\"start\" x=\"27.5\" y=\"-37.8\" font-family=\"Helvetica,sans-Serif\" font-size=\"14.00\" fill=\"#000000\">samples = 2</text>\n<text text-anchor=\"start\" x=\"25.5\" y=\"-22.8\" font-family=\"Helvetica,sans-Serif\" font-size=\"14.00\" fill=\"#000000\">value = [1, 1]</text>\n<text text-anchor=\"start\" x=\"8\" y=\"-7.8\" font-family=\"Helvetica,sans-Serif\" font-size=\"14.00\" fill=\"#000000\">class = not default</text>\n</g>\n<!-- 4&#45;&gt;5 -->\n<g id=\"edge5\" class=\"edge\">\n<title>4&#45;&gt;5</title>\n<path fill=\"none\" stroke=\"#000000\" d=\"M162.4008,-103.9815C149.1201,-94.2394 134.9923,-83.8759 121.7923,-74.193\"/>\n<polygon fill=\"#000000\" stroke=\"#000000\" points=\"123.8426,-71.3564 113.7092,-68.2637 119.7023,-77.0006 123.8426,-71.3564\"/>\n</g>\n<!-- 6 -->\n<g id=\"node7\" class=\"node\">\n<title>6</title>\n<path fill=\"#e5833c\" stroke=\"#000000\" d=\"M274,-68C274,-68 164,-68 164,-68 158,-68 152,-62 152,-56 152,-56 152,-12 152,-12 152,-6 158,0 164,0 164,0 274,0 274,0 280,0 286,-6 286,-12 286,-12 286,-56 286,-56 286,-62 280,-68 274,-68\"/>\n<text text-anchor=\"start\" x=\"181\" y=\"-52.8\" font-family=\"Helvetica,sans-Serif\" font-size=\"14.00\" fill=\"#000000\">gini = 0.026</text>\n<text text-anchor=\"start\" x=\"171\" y=\"-37.8\" font-family=\"Helvetica,sans-Serif\" font-size=\"14.00\" fill=\"#000000\">samples = 693</text>\n<text text-anchor=\"start\" x=\"169\" y=\"-22.8\" font-family=\"Helvetica,sans-Serif\" font-size=\"14.00\" fill=\"#000000\">value = [684, 9]</text>\n<text text-anchor=\"start\" x=\"160\" y=\"-7.8\" font-family=\"Helvetica,sans-Serif\" font-size=\"14.00\" fill=\"#000000\">class = not default</text>\n</g>\n<!-- 4&#45;&gt;6 -->\n<g id=\"edge6\" class=\"edge\">\n<title>4&#45;&gt;6</title>\n<path fill=\"none\" stroke=\"#000000\" d=\"M219,-103.9815C219,-95.618 219,-86.7965 219,-78.3409\"/>\n<polygon fill=\"#000000\" stroke=\"#000000\" points=\"222.5001,-78.2636 219,-68.2637 215.5001,-78.2637 222.5001,-78.2636\"/>\n</g>\n<!-- 8 -->\n<g id=\"node9\" class=\"node\">\n<title>8</title>\n<path fill=\"#ffffff\" stroke=\"#000000\" d=\"M426,-68C426,-68 316,-68 316,-68 310,-68 304,-62 304,-56 304,-56 304,-12 304,-12 304,-6 310,0 316,0 316,0 426,0 426,0 432,0 438,-6 438,-12 438,-12 438,-56 438,-56 438,-62 432,-68 426,-68\"/>\n<text text-anchor=\"start\" x=\"341.5\" y=\"-52.8\" font-family=\"Helvetica,sans-Serif\" font-size=\"14.00\" fill=\"#000000\">gini = 0.5</text>\n<text text-anchor=\"start\" x=\"327\" y=\"-37.8\" font-family=\"Helvetica,sans-Serif\" font-size=\"14.00\" fill=\"#000000\">samples = 14</text>\n<text text-anchor=\"start\" x=\"329.5\" y=\"-22.8\" font-family=\"Helvetica,sans-Serif\" font-size=\"14.00\" fill=\"#000000\">value = [7, 7]</text>\n<text text-anchor=\"start\" x=\"312\" y=\"-7.8\" font-family=\"Helvetica,sans-Serif\" font-size=\"14.00\" fill=\"#000000\">class = not default</text>\n</g>\n<!-- 7&#45;&gt;8 -->\n<g id=\"edge8\" class=\"edge\">\n<title>7&#45;&gt;8</title>\n<path fill=\"none\" stroke=\"#000000\" d=\"M402.3818,-103.9815C398.5078,-95.3423 394.4145,-86.2144 390.5094,-77.5059\"/>\n<polygon fill=\"#000000\" stroke=\"#000000\" points=\"393.6503,-75.9561 386.3649,-68.2637 387.2631,-78.8204 393.6503,-75.9561\"/>\n</g>\n<!-- 9 -->\n<g id=\"node10\" class=\"node\">\n<title>9</title>\n<path fill=\"#e88e4d\" stroke=\"#000000\" d=\"M578,-68C578,-68 468,-68 468,-68 462,-68 456,-62 456,-56 456,-56 456,-12 456,-12 456,-6 462,0 468,0 468,0 578,0 578,0 584,0 590,-6 590,-12 590,-12 590,-56 590,-56 590,-62 584,-68 578,-68\"/>\n<text text-anchor=\"start\" x=\"485\" y=\"-52.8\" font-family=\"Helvetica,sans-Serif\" font-size=\"14.00\" fill=\"#000000\">gini = 0.169</text>\n<text text-anchor=\"start\" x=\"479\" y=\"-37.8\" font-family=\"Helvetica,sans-Serif\" font-size=\"14.00\" fill=\"#000000\">samples = 86</text>\n<text text-anchor=\"start\" x=\"477.5\" y=\"-22.8\" font-family=\"Helvetica,sans-Serif\" font-size=\"14.00\" fill=\"#000000\">value = [78, 8]</text>\n<text text-anchor=\"start\" x=\"464\" y=\"-7.8\" font-family=\"Helvetica,sans-Serif\" font-size=\"14.00\" fill=\"#000000\">class = not default</text>\n</g>\n<!-- 7&#45;&gt;9 -->\n<g id=\"edge9\" class=\"edge\">\n<title>7&#45;&gt;9</title>\n<path fill=\"none\" stroke=\"#000000\" d=\"M458.981,-103.9815C467.3886,-94.7908 476.3021,-85.0472 484.7215,-75.8436\"/>\n<polygon fill=\"#000000\" stroke=\"#000000\" points=\"487.4883,-78.0045 491.6557,-68.2637 482.3234,-73.2797 487.4883,-78.0045\"/>\n</g>\n<!-- 12 -->\n<g id=\"node13\" class=\"node\">\n<title>12</title>\n<path fill=\"#eca26d\" stroke=\"#000000\" d=\"M887.5,-306C887.5,-306 714.5,-306 714.5,-306 708.5,-306 702.5,-300 702.5,-294 702.5,-294 702.5,-235 702.5,-235 702.5,-229 708.5,-223 714.5,-223 714.5,-223 887.5,-223 887.5,-223 893.5,-223 899.5,-229 899.5,-235 899.5,-235 899.5,-294 899.5,-294 899.5,-300 893.5,-306 887.5,-306\"/>\n<text text-anchor=\"start\" x=\"710.5\" y=\"-290.8\" font-family=\"Helvetica,sans-Serif\" font-size=\"14.00\" fill=\"#000000\">% Trades w/ Balance ≤ 51.0</text>\n<text text-anchor=\"start\" x=\"763\" y=\"-275.8\" font-family=\"Helvetica,sans-Serif\" font-size=\"14.00\" fill=\"#000000\">gini = 0.331</text>\n<text text-anchor=\"start\" x=\"757\" y=\"-260.8\" font-family=\"Helvetica,sans-Serif\" font-size=\"14.00\" fill=\"#000000\">samples = 86</text>\n<text text-anchor=\"start\" x=\"751\" y=\"-245.8\" font-family=\"Helvetica,sans-Serif\" font-size=\"14.00\" fill=\"#000000\">value = [68, 18]</text>\n<text text-anchor=\"start\" x=\"742\" y=\"-230.8\" font-family=\"Helvetica,sans-Serif\" font-size=\"14.00\" fill=\"#000000\">class = not default</text>\n</g>\n<!-- 11&#45;&gt;12 -->\n<g id=\"edge12\" class=\"edge\">\n<title>11&#45;&gt;12</title>\n<path fill=\"none\" stroke=\"#000000\" d=\"M866.6751,-341.8796C859.0311,-332.8733 850.8757,-323.2644 843.0039,-313.9897\"/>\n<polygon fill=\"#000000\" stroke=\"#000000\" points=\"845.6151,-311.6574 836.4757,-306.2981 840.2782,-316.1871 845.6151,-311.6574\"/>\n</g>\n<!-- 17 -->\n<g id=\"node18\" class=\"node\">\n<title>17</title>\n<path fill=\"#55abe9\" stroke=\"#000000\" d=\"M1016,-298.5C1016,-298.5 930,-298.5 930,-298.5 924,-298.5 918,-292.5 918,-286.5 918,-286.5 918,-242.5 918,-242.5 918,-236.5 924,-230.5 930,-230.5 930,-230.5 1016,-230.5 1016,-230.5 1022,-230.5 1028,-236.5 1028,-242.5 1028,-242.5 1028,-286.5 1028,-286.5 1028,-292.5 1022,-298.5 1016,-298.5\"/>\n<text text-anchor=\"start\" x=\"935\" y=\"-283.3\" font-family=\"Helvetica,sans-Serif\" font-size=\"14.00\" fill=\"#000000\">gini = 0.219</text>\n<text text-anchor=\"start\" x=\"929\" y=\"-268.3\" font-family=\"Helvetica,sans-Serif\" font-size=\"14.00\" fill=\"#000000\">samples = 24</text>\n<text text-anchor=\"start\" x=\"927.5\" y=\"-253.3\" font-family=\"Helvetica,sans-Serif\" font-size=\"14.00\" fill=\"#000000\">value = [3, 21]</text>\n<text text-anchor=\"start\" x=\"926\" y=\"-238.3\" font-family=\"Helvetica,sans-Serif\" font-size=\"14.00\" fill=\"#000000\">class = default</text>\n</g>\n<!-- 11&#45;&gt;17 -->\n<g id=\"edge17\" class=\"edge\">\n<title>11&#45;&gt;17</title>\n<path fill=\"none\" stroke=\"#000000\" d=\"M926.8324,-341.8796C933.4587,-330.7735 940.6316,-318.7513 947.3033,-307.5691\"/>\n<polygon fill=\"#000000\" stroke=\"#000000\" points=\"950.4083,-309.1959 952.5264,-298.8149 944.3969,-305.6093 950.4083,-309.1959\"/>\n</g>\n<!-- 13 -->\n<g id=\"node14\" class=\"node\">\n<title>13</title>\n<path fill=\"#88c4ef\" stroke=\"#000000\" d=\"M664,-179.5C664,-179.5 578,-179.5 578,-179.5 572,-179.5 566,-173.5 566,-167.5 566,-167.5 566,-123.5 566,-123.5 566,-117.5 572,-111.5 578,-111.5 578,-111.5 664,-111.5 664,-111.5 670,-111.5 676,-117.5 676,-123.5 676,-123.5 676,-167.5 676,-167.5 676,-173.5 670,-179.5 664,-179.5\"/>\n<text text-anchor=\"start\" x=\"583\" y=\"-164.3\" font-family=\"Helvetica,sans-Serif\" font-size=\"14.00\" fill=\"#000000\">gini = 0.408</text>\n<text text-anchor=\"start\" x=\"577\" y=\"-149.3\" font-family=\"Helvetica,sans-Serif\" font-size=\"14.00\" fill=\"#000000\">samples = 14</text>\n<text text-anchor=\"start\" x=\"575.5\" y=\"-134.3\" font-family=\"Helvetica,sans-Serif\" font-size=\"14.00\" fill=\"#000000\">value = [4, 10]</text>\n<text text-anchor=\"start\" x=\"574\" y=\"-119.3\" font-family=\"Helvetica,sans-Serif\" font-size=\"14.00\" fill=\"#000000\">class = default</text>\n</g>\n<!-- 12&#45;&gt;13 -->\n<g id=\"edge13\" class=\"edge\">\n<title>12&#45;&gt;13</title>\n<path fill=\"none\" stroke=\"#000000\" d=\"M738.0447,-222.8796C719.6616,-210.7263 699.6189,-197.4759 681.3979,-185.4297\"/>\n<polygon fill=\"#000000\" stroke=\"#000000\" points=\"682.8867,-182.2183 672.6147,-179.623 679.0263,-188.0576 682.8867,-182.2183\"/>\n</g>\n<!-- 14 -->\n<g id=\"node15\" class=\"node\">\n<title>14</title>\n<path fill=\"#e89152\" stroke=\"#000000\" d=\"M899.5,-187C899.5,-187 706.5,-187 706.5,-187 700.5,-187 694.5,-181 694.5,-175 694.5,-175 694.5,-116 694.5,-116 694.5,-110 700.5,-104 706.5,-104 706.5,-104 899.5,-104 899.5,-104 905.5,-104 911.5,-110 911.5,-116 911.5,-116 911.5,-175 911.5,-175 911.5,-181 905.5,-187 899.5,-187\"/>\n<text text-anchor=\"start\" x=\"702.5\" y=\"-171.8\" font-family=\"Helvetica,sans-Serif\" font-size=\"14.00\" fill=\"#000000\">Average Months in File ≤ 129.5</text>\n<text text-anchor=\"start\" x=\"765\" y=\"-156.8\" font-family=\"Helvetica,sans-Serif\" font-size=\"14.00\" fill=\"#000000\">gini = 0.198</text>\n<text text-anchor=\"start\" x=\"759\" y=\"-141.8\" font-family=\"Helvetica,sans-Serif\" font-size=\"14.00\" fill=\"#000000\">samples = 72</text>\n<text text-anchor=\"start\" x=\"757.5\" y=\"-126.8\" font-family=\"Helvetica,sans-Serif\" font-size=\"14.00\" fill=\"#000000\">value = [64, 8]</text>\n<text text-anchor=\"start\" x=\"744\" y=\"-111.8\" font-family=\"Helvetica,sans-Serif\" font-size=\"14.00\" fill=\"#000000\">class = not default</text>\n</g>\n<!-- 12&#45;&gt;14 -->\n<g id=\"edge14\" class=\"edge\">\n<title>12&#45;&gt;14</title>\n<path fill=\"none\" stroke=\"#000000\" d=\"M801.6995,-222.8796C801.8372,-214.6838 801.9834,-205.9891 802.126,-197.5013\"/>\n<polygon fill=\"#000000\" stroke=\"#000000\" points=\"805.6289,-197.3555 802.2975,-187.2981 798.6299,-197.2378 805.6289,-197.3555\"/>\n</g>\n<!-- 15 -->\n<g id=\"node16\" class=\"node\">\n<title>15</title>\n<path fill=\"#e78b49\" stroke=\"#000000\" d=\"M730,-68C730,-68 620,-68 620,-68 614,-68 608,-62 608,-56 608,-56 608,-12 608,-12 608,-6 614,0 620,0 620,0 730,0 730,0 736,0 742,-6 742,-12 742,-12 742,-56 742,-56 742,-62 736,-68 730,-68\"/>\n<text text-anchor=\"start\" x=\"637\" y=\"-52.8\" font-family=\"Helvetica,sans-Serif\" font-size=\"14.00\" fill=\"#000000\">gini = 0.136</text>\n<text text-anchor=\"start\" x=\"631\" y=\"-37.8\" font-family=\"Helvetica,sans-Serif\" font-size=\"14.00\" fill=\"#000000\">samples = 68</text>\n<text text-anchor=\"start\" x=\"629.5\" y=\"-22.8\" font-family=\"Helvetica,sans-Serif\" font-size=\"14.00\" fill=\"#000000\">value = [63, 5]</text>\n<text text-anchor=\"start\" x=\"616\" y=\"-7.8\" font-family=\"Helvetica,sans-Serif\" font-size=\"14.00\" fill=\"#000000\">class = not default</text>\n</g>\n<!-- 14&#45;&gt;15 -->\n<g id=\"edge15\" class=\"edge\">\n<title>14&#45;&gt;15</title>\n<path fill=\"none\" stroke=\"#000000\" d=\"M755.3375,-103.9815C744.4703,-94.5151 732.9295,-84.462 722.0865,-75.0168\"/>\n<polygon fill=\"#000000\" stroke=\"#000000\" points=\"724.1734,-72.1929 714.3341,-68.2637 719.5755,-77.4712 724.1734,-72.1929\"/>\n</g>\n<!-- 16 -->\n<g id=\"node17\" class=\"node\">\n<title>16</title>\n<path fill=\"#7bbeee\" stroke=\"#000000\" d=\"M858,-68C858,-68 772,-68 772,-68 766,-68 760,-62 760,-56 760,-56 760,-12 760,-12 760,-6 766,0 772,0 772,0 858,0 858,0 864,0 870,-6 870,-12 870,-12 870,-56 870,-56 870,-62 864,-68 858,-68\"/>\n<text text-anchor=\"start\" x=\"777\" y=\"-52.8\" font-family=\"Helvetica,sans-Serif\" font-size=\"14.00\" fill=\"#000000\">gini = 0.375</text>\n<text text-anchor=\"start\" x=\"775.5\" y=\"-37.8\" font-family=\"Helvetica,sans-Serif\" font-size=\"14.00\" fill=\"#000000\">samples = 4</text>\n<text text-anchor=\"start\" x=\"773.5\" y=\"-22.8\" font-family=\"Helvetica,sans-Serif\" font-size=\"14.00\" fill=\"#000000\">value = [1, 3]</text>\n<text text-anchor=\"start\" x=\"768\" y=\"-7.8\" font-family=\"Helvetica,sans-Serif\" font-size=\"14.00\" fill=\"#000000\">class = default</text>\n</g>\n<!-- 14&#45;&gt;16 -->\n<g id=\"edge16\" class=\"edge\">\n<title>14&#45;&gt;16</title>\n<path fill=\"none\" stroke=\"#000000\" d=\"M807.4684,-103.9815C808.3685,-95.618 809.3179,-86.7965 810.2279,-78.3409\"/>\n<polygon fill=\"#000000\" stroke=\"#000000\" points=\"813.7222,-78.5808 811.3124,-68.2637 806.7624,-77.8317 813.7222,-78.5808\"/>\n</g>\n<!-- 19 -->\n<g id=\"node20\" class=\"node\">\n<title>19</title>\n<path fill=\"#dceefa\" stroke=\"#000000\" d=\"M1418.5,-425C1418.5,-425 1257.5,-425 1257.5,-425 1251.5,-425 1245.5,-419 1245.5,-413 1245.5,-413 1245.5,-354 1245.5,-354 1245.5,-348 1251.5,-342 1257.5,-342 1257.5,-342 1418.5,-342 1418.5,-342 1424.5,-342 1430.5,-348 1430.5,-354 1430.5,-354 1430.5,-413 1430.5,-413 1430.5,-419 1424.5,-425 1418.5,-425\"/>\n<text text-anchor=\"start\" x=\"1253.5\" y=\"-409.8\" font-family=\"Helvetica,sans-Serif\" font-size=\"14.00\" fill=\"#000000\">Satisfactory Trades ≤ 24.5</text>\n<text text-anchor=\"start\" x=\"1300\" y=\"-394.8\" font-family=\"Helvetica,sans-Serif\" font-size=\"14.00\" fill=\"#000000\">gini = 0.495</text>\n<text text-anchor=\"start\" x=\"1290\" y=\"-379.8\" font-family=\"Helvetica,sans-Serif\" font-size=\"14.00\" fill=\"#000000\">samples = 310</text>\n<text text-anchor=\"start\" x=\"1280\" y=\"-364.8\" font-family=\"Helvetica,sans-Serif\" font-size=\"14.00\" fill=\"#000000\">value = [140, 170]</text>\n<text text-anchor=\"start\" x=\"1291\" y=\"-349.8\" font-family=\"Helvetica,sans-Serif\" font-size=\"14.00\" fill=\"#000000\">class = default</text>\n</g>\n<!-- 18&#45;&gt;19 -->\n<g id=\"edge19\" class=\"edge\">\n<title>18&#45;&gt;19</title>\n<path fill=\"none\" stroke=\"#000000\" d=\"M1338,-460.8796C1338,-452.6838 1338,-443.9891 1338,-435.5013\"/>\n<polygon fill=\"#000000\" stroke=\"#000000\" points=\"1341.5001,-435.298 1338,-425.2981 1334.5001,-435.2981 1341.5001,-435.298\"/>\n</g>\n<!-- 32 -->\n<g id=\"node33\" class=\"node\">\n<title>32</title>\n<path fill=\"#40a0e6\" stroke=\"#000000\" d=\"M1762.5,-425C1762.5,-425 1577.5,-425 1577.5,-425 1571.5,-425 1565.5,-419 1565.5,-413 1565.5,-413 1565.5,-354 1565.5,-354 1565.5,-348 1571.5,-342 1577.5,-342 1577.5,-342 1762.5,-342 1762.5,-342 1768.5,-342 1774.5,-348 1774.5,-354 1774.5,-354 1774.5,-413 1774.5,-413 1774.5,-419 1768.5,-425 1762.5,-425\"/>\n<text text-anchor=\"start\" x=\"1573.5\" y=\"-409.8\" font-family=\"Helvetica,sans-Serif\" font-size=\"14.00\" fill=\"#000000\">Average Months in File ≤ 38.5</text>\n<text text-anchor=\"start\" x=\"1632\" y=\"-394.8\" font-family=\"Helvetica,sans-Serif\" font-size=\"14.00\" fill=\"#000000\">gini = 0.062</text>\n<text text-anchor=\"start\" x=\"1622\" y=\"-379.8\" font-family=\"Helvetica,sans-Serif\" font-size=\"14.00\" fill=\"#000000\">samples = 722</text>\n<text text-anchor=\"start\" x=\"1616\" y=\"-364.8\" font-family=\"Helvetica,sans-Serif\" font-size=\"14.00\" fill=\"#000000\">value = [23, 699]</text>\n<text text-anchor=\"start\" x=\"1623\" y=\"-349.8\" font-family=\"Helvetica,sans-Serif\" font-size=\"14.00\" fill=\"#000000\">class = default</text>\n</g>\n<!-- 18&#45;&gt;32 -->\n<g id=\"edge32\" class=\"edge\">\n<title>18&#45;&gt;32</title>\n<path fill=\"none\" stroke=\"#000000\" d=\"M1441.227,-465.5C1477.4846,-452.504 1518.4279,-437.8286 1555.5521,-424.522\"/>\n<polygon fill=\"#000000\" stroke=\"#000000\" points=\"1557.1744,-427.6586 1565.407,-420.9896 1554.8125,-421.0691 1557.1744,-427.6586\"/>\n</g>\n<!-- 20 -->\n<g id=\"node21\" class=\"node\">\n<title>20</title>\n<path fill=\"#f3c5a4\" stroke=\"#000000\" d=\"M1317.5,-306C1317.5,-306 1132.5,-306 1132.5,-306 1126.5,-306 1120.5,-300 1120.5,-294 1120.5,-294 1120.5,-235 1120.5,-235 1120.5,-229 1126.5,-223 1132.5,-223 1132.5,-223 1317.5,-223 1317.5,-223 1323.5,-223 1329.5,-229 1329.5,-235 1329.5,-235 1329.5,-294 1329.5,-294 1329.5,-300 1323.5,-306 1317.5,-306\"/>\n<text text-anchor=\"start\" x=\"1128.5\" y=\"-290.8\" font-family=\"Helvetica,sans-Serif\" font-size=\"14.00\" fill=\"#000000\">Average Months in File ≤ 77.5</text>\n<text text-anchor=\"start\" x=\"1187\" y=\"-275.8\" font-family=\"Helvetica,sans-Serif\" font-size=\"14.00\" fill=\"#000000\">gini = 0.455</text>\n<text text-anchor=\"start\" x=\"1177\" y=\"-260.8\" font-family=\"Helvetica,sans-Serif\" font-size=\"14.00\" fill=\"#000000\">samples = 194</text>\n<text text-anchor=\"start\" x=\"1171\" y=\"-245.8\" font-family=\"Helvetica,sans-Serif\" font-size=\"14.00\" fill=\"#000000\">value = [126, 68]</text>\n<text text-anchor=\"start\" x=\"1166\" y=\"-230.8\" font-family=\"Helvetica,sans-Serif\" font-size=\"14.00\" fill=\"#000000\">class = not default</text>\n</g>\n<!-- 19&#45;&gt;20 -->\n<g id=\"edge20\" class=\"edge\">\n<title>19&#45;&gt;20</title>\n<path fill=\"none\" stroke=\"#000000\" d=\"M1298.4781,-341.8796C1289.8403,-332.7832 1280.619,-323.0722 1271.7303,-313.7116\"/>\n<polygon fill=\"#000000\" stroke=\"#000000\" points=\"1274.1146,-311.1395 1264.6906,-306.2981 1269.0385,-315.9597 1274.1146,-311.1395\"/>\n</g>\n<!-- 27 -->\n<g id=\"node28\" class=\"node\">\n<title>27</title>\n<path fill=\"#54aae9\" stroke=\"#000000\" d=\"M1544.5,-306C1544.5,-306 1359.5,-306 1359.5,-306 1353.5,-306 1347.5,-300 1347.5,-294 1347.5,-294 1347.5,-235 1347.5,-235 1347.5,-229 1353.5,-223 1359.5,-223 1359.5,-223 1544.5,-223 1544.5,-223 1550.5,-223 1556.5,-229 1556.5,-235 1556.5,-235 1556.5,-294 1556.5,-294 1556.5,-300 1550.5,-306 1544.5,-306\"/>\n<text text-anchor=\"start\" x=\"1355.5\" y=\"-290.8\" font-family=\"Helvetica,sans-Serif\" font-size=\"14.00\" fill=\"#000000\">Average Months in File ≤ 53.5</text>\n<text text-anchor=\"start\" x=\"1414\" y=\"-275.8\" font-family=\"Helvetica,sans-Serif\" font-size=\"14.00\" fill=\"#000000\">gini = 0.212</text>\n<text text-anchor=\"start\" x=\"1404\" y=\"-260.8\" font-family=\"Helvetica,sans-Serif\" font-size=\"14.00\" fill=\"#000000\">samples = 116</text>\n<text text-anchor=\"start\" x=\"1398\" y=\"-245.8\" font-family=\"Helvetica,sans-Serif\" font-size=\"14.00\" fill=\"#000000\">value = [14, 102]</text>\n<text text-anchor=\"start\" x=\"1405\" y=\"-230.8\" font-family=\"Helvetica,sans-Serif\" font-size=\"14.00\" fill=\"#000000\">class = default</text>\n</g>\n<!-- 19&#45;&gt;27 -->\n<g id=\"edge27\" class=\"edge\">\n<title>19&#45;&gt;27</title>\n<path fill=\"none\" stroke=\"#000000\" d=\"M1377.8717,-341.8796C1386.5858,-332.7832 1395.8888,-323.0722 1404.8562,-313.7116\"/>\n<polygon fill=\"#000000\" stroke=\"#000000\" points=\"1407.5678,-315.9405 1411.9581,-306.2981 1402.513,-311.098 1407.5678,-315.9405\"/>\n</g>\n<!-- 21 -->\n<g id=\"node22\" class=\"node\">\n<title>21</title>\n<path fill=\"#eda673\" stroke=\"#000000\" d=\"M1149.5,-187C1149.5,-187 988.5,-187 988.5,-187 982.5,-187 976.5,-181 976.5,-175 976.5,-175 976.5,-116 976.5,-116 976.5,-110 982.5,-104 988.5,-104 988.5,-104 1149.5,-104 1149.5,-104 1155.5,-104 1161.5,-110 1161.5,-116 1161.5,-116 1161.5,-175 1161.5,-175 1161.5,-181 1155.5,-187 1149.5,-187\"/>\n<text text-anchor=\"start\" x=\"984.5\" y=\"-171.8\" font-family=\"Helvetica,sans-Serif\" font-size=\"14.00\" fill=\"#000000\">Satisfactory Trades ≤ 16.5</text>\n<text text-anchor=\"start\" x=\"1035.5\" y=\"-156.8\" font-family=\"Helvetica,sans-Serif\" font-size=\"14.00\" fill=\"#000000\">gini = 0.35</text>\n<text text-anchor=\"start\" x=\"1021\" y=\"-141.8\" font-family=\"Helvetica,sans-Serif\" font-size=\"14.00\" fill=\"#000000\">samples = 124</text>\n<text text-anchor=\"start\" x=\"1019\" y=\"-126.8\" font-family=\"Helvetica,sans-Serif\" font-size=\"14.00\" fill=\"#000000\">value = [96, 28]</text>\n<text text-anchor=\"start\" x=\"1010\" y=\"-111.8\" font-family=\"Helvetica,sans-Serif\" font-size=\"14.00\" fill=\"#000000\">class = not default</text>\n</g>\n<!-- 20&#45;&gt;21 -->\n<g id=\"edge21\" class=\"edge\">\n<title>20&#45;&gt;21</title>\n<path fill=\"none\" stroke=\"#000000\" d=\"M1170.4388,-222.8796C1157.9698,-213.368 1144.6198,-203.1843 1131.8352,-193.432\"/>\n<polygon fill=\"#000000\" stroke=\"#000000\" points=\"1133.604,-190.3792 1123.5304,-187.0969 1129.3585,-195.9448 1133.604,-190.3792\"/>\n</g>\n<!-- 24 -->\n<g id=\"node25\" class=\"node\">\n<title>24</title>\n<path fill=\"#cee6f8\" stroke=\"#000000\" d=\"M1326.5,-187C1326.5,-187 1191.5,-187 1191.5,-187 1185.5,-187 1179.5,-181 1179.5,-175 1179.5,-175 1179.5,-116 1179.5,-116 1179.5,-110 1185.5,-104 1191.5,-104 1191.5,-104 1326.5,-104 1326.5,-104 1332.5,-104 1338.5,-110 1338.5,-116 1338.5,-116 1338.5,-175 1338.5,-175 1338.5,-181 1332.5,-187 1326.5,-187\"/>\n<text text-anchor=\"start\" x=\"1187.5\" y=\"-171.8\" font-family=\"Helvetica,sans-Serif\" font-size=\"14.00\" fill=\"#000000\">Trades 90+ Ever ≤ 0.5</text>\n<text text-anchor=\"start\" x=\"1225.5\" y=\"-156.8\" font-family=\"Helvetica,sans-Serif\" font-size=\"14.00\" fill=\"#000000\">gini = 0.49</text>\n<text text-anchor=\"start\" x=\"1215\" y=\"-141.8\" font-family=\"Helvetica,sans-Serif\" font-size=\"14.00\" fill=\"#000000\">samples = 70</text>\n<text text-anchor=\"start\" x=\"1209\" y=\"-126.8\" font-family=\"Helvetica,sans-Serif\" font-size=\"14.00\" fill=\"#000000\">value = [30, 40]</text>\n<text text-anchor=\"start\" x=\"1212\" y=\"-111.8\" font-family=\"Helvetica,sans-Serif\" font-size=\"14.00\" fill=\"#000000\">class = default</text>\n</g>\n<!-- 20&#45;&gt;24 -->\n<g id=\"edge24\" class=\"edge\">\n<title>20&#45;&gt;24</title>\n<path fill=\"none\" stroke=\"#000000\" d=\"M1236.8916,-222.8796C1239.2847,-214.5037 1241.8267,-205.6067 1244.3023,-196.942\"/>\n<polygon fill=\"#000000\" stroke=\"#000000\" points=\"1247.6757,-197.8749 1247.0577,-187.2981 1240.9451,-195.9518 1247.6757,-197.8749\"/>\n</g>\n<!-- 22 -->\n<g id=\"node23\" class=\"node\">\n<title>22</title>\n<path fill=\"#e88d4c\" stroke=\"#000000\" d=\"M1010,-68C1010,-68 900,-68 900,-68 894,-68 888,-62 888,-56 888,-56 888,-12 888,-12 888,-6 894,0 900,0 900,0 1010,0 1010,0 1016,0 1022,-6 1022,-12 1022,-12 1022,-56 1022,-56 1022,-62 1016,-68 1010,-68\"/>\n<text text-anchor=\"start\" x=\"917\" y=\"-52.8\" font-family=\"Helvetica,sans-Serif\" font-size=\"14.00\" fill=\"#000000\">gini = 0.161</text>\n<text text-anchor=\"start\" x=\"911\" y=\"-37.8\" font-family=\"Helvetica,sans-Serif\" font-size=\"14.00\" fill=\"#000000\">samples = 68</text>\n<text text-anchor=\"start\" x=\"909.5\" y=\"-22.8\" font-family=\"Helvetica,sans-Serif\" font-size=\"14.00\" fill=\"#000000\">value = [62, 6]</text>\n<text text-anchor=\"start\" x=\"896\" y=\"-7.8\" font-family=\"Helvetica,sans-Serif\" font-size=\"14.00\" fill=\"#000000\">class = not default</text>\n</g>\n<!-- 21&#45;&gt;22 -->\n<g id=\"edge22\" class=\"edge\">\n<title>21&#45;&gt;22</title>\n<path fill=\"none\" stroke=\"#000000\" d=\"M1026.5506,-103.9815C1016.9659,-94.607 1006.793,-84.6572 997.2179,-75.2921\"/>\n<polygon fill=\"#000000\" stroke=\"#000000\" points=\"999.6283,-72.7538 990.0319,-68.2637 994.7337,-77.7581 999.6283,-72.7538\"/>\n</g>\n<!-- 23 -->\n<g id=\"node24\" class=\"node\">\n<title>23</title>\n<path fill=\"#f6d3b9\" stroke=\"#000000\" d=\"M1162,-68C1162,-68 1052,-68 1052,-68 1046,-68 1040,-62 1040,-56 1040,-56 1040,-12 1040,-12 1040,-6 1046,0 1052,0 1052,0 1162,0 1162,0 1168,0 1174,-6 1174,-12 1174,-12 1174,-56 1174,-56 1174,-62 1168,-68 1162,-68\"/>\n<text text-anchor=\"start\" x=\"1069\" y=\"-52.8\" font-family=\"Helvetica,sans-Serif\" font-size=\"14.00\" fill=\"#000000\">gini = 0.477</text>\n<text text-anchor=\"start\" x=\"1063\" y=\"-37.8\" font-family=\"Helvetica,sans-Serif\" font-size=\"14.00\" fill=\"#000000\">samples = 56</text>\n<text text-anchor=\"start\" x=\"1057\" y=\"-22.8\" font-family=\"Helvetica,sans-Serif\" font-size=\"14.00\" fill=\"#000000\">value = [34, 22]</text>\n<text text-anchor=\"start\" x=\"1048\" y=\"-7.8\" font-family=\"Helvetica,sans-Serif\" font-size=\"14.00\" fill=\"#000000\">class = not default</text>\n</g>\n<!-- 21&#45;&gt;23 -->\n<g id=\"edge23\" class=\"edge\">\n<title>21&#45;&gt;23</title>\n<path fill=\"none\" stroke=\"#000000\" d=\"M1083.1498,-103.9815C1086.0628,-95.4342 1089.1388,-86.4086 1092.0781,-77.7839\"/>\n<polygon fill=\"#000000\" stroke=\"#000000\" points=\"1095.4096,-78.8582 1095.3227,-68.2637 1088.7839,-76.6 1095.4096,-78.8582\"/>\n</g>\n<!-- 25 -->\n<g id=\"node26\" class=\"node\">\n<title>25</title>\n<path fill=\"#fae8da\" stroke=\"#000000\" d=\"M1314,-68C1314,-68 1204,-68 1204,-68 1198,-68 1192,-62 1192,-56 1192,-56 1192,-12 1192,-12 1192,-6 1198,0 1204,0 1204,0 1314,0 1314,0 1320,0 1326,-6 1326,-12 1326,-12 1326,-56 1326,-56 1326,-62 1320,-68 1314,-68\"/>\n<text text-anchor=\"start\" x=\"1221\" y=\"-52.8\" font-family=\"Helvetica,sans-Serif\" font-size=\"14.00\" fill=\"#000000\">gini = 0.495</text>\n<text text-anchor=\"start\" x=\"1215\" y=\"-37.8\" font-family=\"Helvetica,sans-Serif\" font-size=\"14.00\" fill=\"#000000\">samples = 49</text>\n<text text-anchor=\"start\" x=\"1209\" y=\"-22.8\" font-family=\"Helvetica,sans-Serif\" font-size=\"14.00\" fill=\"#000000\">value = [27, 22]</text>\n<text text-anchor=\"start\" x=\"1200\" y=\"-7.8\" font-family=\"Helvetica,sans-Serif\" font-size=\"14.00\" fill=\"#000000\">class = not default</text>\n</g>\n<!-- 24&#45;&gt;25 -->\n<g id=\"edge25\" class=\"edge\">\n<title>24&#45;&gt;25</title>\n<path fill=\"none\" stroke=\"#000000\" d=\"M1259,-103.9815C1259,-95.618 1259,-86.7965 1259,-78.3409\"/>\n<polygon fill=\"#000000\" stroke=\"#000000\" points=\"1262.5001,-78.2636 1259,-68.2637 1255.5001,-78.2637 1262.5001,-78.2636\"/>\n</g>\n<!-- 26 -->\n<g id=\"node27\" class=\"node\">\n<title>26</title>\n<path fill=\"#5aade9\" stroke=\"#000000\" d=\"M1442,-68C1442,-68 1356,-68 1356,-68 1350,-68 1344,-62 1344,-56 1344,-56 1344,-12 1344,-12 1344,-6 1350,0 1356,0 1356,0 1442,0 1442,0 1448,0 1454,-6 1454,-12 1454,-12 1454,-56 1454,-56 1454,-62 1448,-68 1442,-68\"/>\n<text text-anchor=\"start\" x=\"1361\" y=\"-52.8\" font-family=\"Helvetica,sans-Serif\" font-size=\"14.00\" fill=\"#000000\">gini = 0.245</text>\n<text text-anchor=\"start\" x=\"1355\" y=\"-37.8\" font-family=\"Helvetica,sans-Serif\" font-size=\"14.00\" fill=\"#000000\">samples = 21</text>\n<text text-anchor=\"start\" x=\"1353.5\" y=\"-22.8\" font-family=\"Helvetica,sans-Serif\" font-size=\"14.00\" fill=\"#000000\">value = [3, 18]</text>\n<text text-anchor=\"start\" x=\"1352\" y=\"-7.8\" font-family=\"Helvetica,sans-Serif\" font-size=\"14.00\" fill=\"#000000\">class = default</text>\n</g>\n<!-- 24&#45;&gt;26 -->\n<g id=\"edge26\" class=\"edge\">\n<title>24&#45;&gt;26</title>\n<path fill=\"none\" stroke=\"#000000\" d=\"M1311.1308,-103.9815C1323.1323,-94.4232 1335.8848,-84.2668 1347.8443,-74.7419\"/>\n<polygon fill=\"#000000\" stroke=\"#000000\" points=\"1350.3365,-77.2314 1355.9783,-68.2637 1345.9756,-71.7558 1350.3365,-77.2314\"/>\n</g>\n<!-- 28 -->\n<g id=\"node29\" class=\"node\">\n<title>28</title>\n<path fill=\"#eeab7b\" stroke=\"#000000\" d=\"M1479,-179.5C1479,-179.5 1369,-179.5 1369,-179.5 1363,-179.5 1357,-173.5 1357,-167.5 1357,-167.5 1357,-123.5 1357,-123.5 1357,-117.5 1363,-111.5 1369,-111.5 1369,-111.5 1479,-111.5 1479,-111.5 1485,-111.5 1491,-117.5 1491,-123.5 1491,-123.5 1491,-167.5 1491,-167.5 1491,-173.5 1485,-179.5 1479,-179.5\"/>\n<text text-anchor=\"start\" x=\"1386\" y=\"-164.3\" font-family=\"Helvetica,sans-Serif\" font-size=\"14.00\" fill=\"#000000\">gini = 0.375</text>\n<text text-anchor=\"start\" x=\"1384.5\" y=\"-149.3\" font-family=\"Helvetica,sans-Serif\" font-size=\"14.00\" fill=\"#000000\">samples = 8</text>\n<text text-anchor=\"start\" x=\"1382.5\" y=\"-134.3\" font-family=\"Helvetica,sans-Serif\" font-size=\"14.00\" fill=\"#000000\">value = [6, 2]</text>\n<text text-anchor=\"start\" x=\"1365\" y=\"-119.3\" font-family=\"Helvetica,sans-Serif\" font-size=\"14.00\" fill=\"#000000\">class = not default</text>\n</g>\n<!-- 27&#45;&gt;28 -->\n<g id=\"edge28\" class=\"edge\">\n<title>27&#45;&gt;28</title>\n<path fill=\"none\" stroke=\"#000000\" d=\"M1442.207,-222.8796C1439.6714,-212.1034 1436.9329,-200.4647 1434.3689,-189.5677\"/>\n<polygon fill=\"#000000\" stroke=\"#000000\" points=\"1437.7715,-188.7474 1432.0741,-179.8149 1430.9576,-190.3508 1437.7715,-188.7474\"/>\n</g>\n<!-- 29 -->\n<g id=\"node30\" class=\"node\">\n<title>29</title>\n<path fill=\"#49a5e7\" stroke=\"#000000\" d=\"M1787,-187C1787,-187 1521,-187 1521,-187 1515,-187 1509,-181 1509,-175 1509,-175 1509,-116 1509,-116 1509,-110 1515,-104 1521,-104 1521,-104 1787,-104 1787,-104 1793,-104 1799,-110 1799,-116 1799,-116 1799,-175 1799,-175 1799,-181 1793,-187 1787,-187\"/>\n<text text-anchor=\"start\" x=\"1517\" y=\"-171.8\" font-family=\"Helvetica,sans-Serif\" font-size=\"14.00\" fill=\"#000000\">Bank Trades w/ High Utilization Ratio ≤ 3.5</text>\n<text text-anchor=\"start\" x=\"1616\" y=\"-156.8\" font-family=\"Helvetica,sans-Serif\" font-size=\"14.00\" fill=\"#000000\">gini = 0.137</text>\n<text text-anchor=\"start\" x=\"1606\" y=\"-141.8\" font-family=\"Helvetica,sans-Serif\" font-size=\"14.00\" fill=\"#000000\">samples = 108</text>\n<text text-anchor=\"start\" x=\"1604\" y=\"-126.8\" font-family=\"Helvetica,sans-Serif\" font-size=\"14.00\" fill=\"#000000\">value = [8, 100]</text>\n<text text-anchor=\"start\" x=\"1607\" y=\"-111.8\" font-family=\"Helvetica,sans-Serif\" font-size=\"14.00\" fill=\"#000000\">class = default</text>\n</g>\n<!-- 27&#45;&gt;29 -->\n<g id=\"edge29\" class=\"edge\">\n<title>27&#45;&gt;29</title>\n<path fill=\"none\" stroke=\"#000000\" d=\"M1522.6498,-222.8796C1539.4106,-213.0056 1557.4008,-202.4075 1574.5252,-192.3193\"/>\n<polygon fill=\"#000000\" stroke=\"#000000\" points=\"1576.5506,-195.1884 1583.3901,-187.0969 1572.9975,-189.1571 1576.5506,-195.1884\"/>\n</g>\n<!-- 30 -->\n<g id=\"node31\" class=\"node\">\n<title>30</title>\n<path fill=\"#43a2e6\" stroke=\"#000000\" d=\"M1600,-68C1600,-68 1512,-68 1512,-68 1506,-68 1500,-62 1500,-56 1500,-56 1500,-12 1500,-12 1500,-6 1506,0 1512,0 1512,0 1600,0 1600,0 1606,0 1612,-6 1612,-12 1612,-12 1612,-56 1612,-56 1612,-62 1606,-68 1600,-68\"/>\n<text text-anchor=\"start\" x=\"1518\" y=\"-52.8\" font-family=\"Helvetica,sans-Serif\" font-size=\"14.00\" fill=\"#000000\">gini = 0.092</text>\n<text text-anchor=\"start\" x=\"1508\" y=\"-37.8\" font-family=\"Helvetica,sans-Serif\" font-size=\"14.00\" fill=\"#000000\">samples = 104</text>\n<text text-anchor=\"start\" x=\"1510.5\" y=\"-22.8\" font-family=\"Helvetica,sans-Serif\" font-size=\"14.00\" fill=\"#000000\">value = [5, 99]</text>\n<text text-anchor=\"start\" x=\"1509\" y=\"-7.8\" font-family=\"Helvetica,sans-Serif\" font-size=\"14.00\" fill=\"#000000\">class = default</text>\n</g>\n<!-- 29&#45;&gt;30 -->\n<g id=\"edge30\" class=\"edge\">\n<title>29&#45;&gt;30</title>\n<path fill=\"none\" stroke=\"#000000\" d=\"M1617.5084,-103.9815C1609.4305,-94.7908 1600.8666,-85.0472 1592.7774,-75.8436\"/>\n<polygon fill=\"#000000\" stroke=\"#000000\" points=\"1595.3458,-73.4642 1586.1152,-68.2637 1590.088,-78.0855 1595.3458,-73.4642\"/>\n</g>\n<!-- 31 -->\n<g id=\"node32\" class=\"node\">\n<title>31</title>\n<path fill=\"#eeab7b\" stroke=\"#000000\" d=\"M1752,-68C1752,-68 1642,-68 1642,-68 1636,-68 1630,-62 1630,-56 1630,-56 1630,-12 1630,-12 1630,-6 1636,0 1642,0 1642,0 1752,0 1752,0 1758,0 1764,-6 1764,-12 1764,-12 1764,-56 1764,-56 1764,-62 1758,-68 1752,-68\"/>\n<text text-anchor=\"start\" x=\"1659\" y=\"-52.8\" font-family=\"Helvetica,sans-Serif\" font-size=\"14.00\" fill=\"#000000\">gini = 0.375</text>\n<text text-anchor=\"start\" x=\"1657.5\" y=\"-37.8\" font-family=\"Helvetica,sans-Serif\" font-size=\"14.00\" fill=\"#000000\">samples = 4</text>\n<text text-anchor=\"start\" x=\"1655.5\" y=\"-22.8\" font-family=\"Helvetica,sans-Serif\" font-size=\"14.00\" fill=\"#000000\">value = [3, 1]</text>\n<text text-anchor=\"start\" x=\"1638\" y=\"-7.8\" font-family=\"Helvetica,sans-Serif\" font-size=\"14.00\" fill=\"#000000\">class = not default</text>\n</g>\n<!-- 29&#45;&gt;31 -->\n<g id=\"edge31\" class=\"edge\">\n<title>29&#45;&gt;31</title>\n<path fill=\"none\" stroke=\"#000000\" d=\"M1670.0116,-103.9815C1673.3079,-95.4342 1676.7886,-86.4086 1680.1147,-77.7839\"/>\n<polygon fill=\"#000000\" stroke=\"#000000\" points=\"1683.4535,-78.8533 1683.7862,-68.2637 1676.9224,-76.3345 1683.4535,-78.8533\"/>\n</g>\n<!-- 33 -->\n<g id=\"node34\" class=\"node\">\n<title>33</title>\n<path fill=\"#f5cfb3\" stroke=\"#000000\" d=\"M1725,-298.5C1725,-298.5 1615,-298.5 1615,-298.5 1609,-298.5 1603,-292.5 1603,-286.5 1603,-286.5 1603,-242.5 1603,-242.5 1603,-236.5 1609,-230.5 1615,-230.5 1615,-230.5 1725,-230.5 1725,-230.5 1731,-230.5 1737,-236.5 1737,-242.5 1737,-242.5 1737,-286.5 1737,-286.5 1737,-292.5 1731,-298.5 1725,-298.5\"/>\n<text text-anchor=\"start\" x=\"1632\" y=\"-283.3\" font-family=\"Helvetica,sans-Serif\" font-size=\"14.00\" fill=\"#000000\">gini = 0.472</text>\n<text text-anchor=\"start\" x=\"1626\" y=\"-268.3\" font-family=\"Helvetica,sans-Serif\" font-size=\"14.00\" fill=\"#000000\">samples = 21</text>\n<text text-anchor=\"start\" x=\"1624.5\" y=\"-253.3\" font-family=\"Helvetica,sans-Serif\" font-size=\"14.00\" fill=\"#000000\">value = [13, 8]</text>\n<text text-anchor=\"start\" x=\"1611\" y=\"-238.3\" font-family=\"Helvetica,sans-Serif\" font-size=\"14.00\" fill=\"#000000\">class = not default</text>\n</g>\n<!-- 32&#45;&gt;33 -->\n<g id=\"edge33\" class=\"edge\">\n<title>32&#45;&gt;33</title>\n<path fill=\"none\" stroke=\"#000000\" d=\"M1670,-341.8796C1670,-331.2134 1670,-319.7021 1670,-308.9015\"/>\n<polygon fill=\"#000000\" stroke=\"#000000\" points=\"1673.5001,-308.8149 1670,-298.8149 1666.5001,-308.815 1673.5001,-308.8149\"/>\n</g>\n<!-- 34 -->\n<g id=\"node35\" class=\"node\">\n<title>34</title>\n<path fill=\"#3c9ee5\" stroke=\"#000000\" d=\"M2016.5,-306C2016.5,-306 1823.5,-306 1823.5,-306 1817.5,-306 1811.5,-300 1811.5,-294 1811.5,-294 1811.5,-235 1811.5,-235 1811.5,-229 1817.5,-223 1823.5,-223 1823.5,-223 2016.5,-223 2016.5,-223 2022.5,-223 2028.5,-229 2028.5,-235 2028.5,-235 2028.5,-294 2028.5,-294 2028.5,-300 2022.5,-306 2016.5,-306\"/>\n<text text-anchor=\"start\" x=\"1819.5\" y=\"-290.8\" font-family=\"Helvetica,sans-Serif\" font-size=\"14.00\" fill=\"#000000\">Average Months in File ≤ 311.5</text>\n<text text-anchor=\"start\" x=\"1882\" y=\"-275.8\" font-family=\"Helvetica,sans-Serif\" font-size=\"14.00\" fill=\"#000000\">gini = 0.028</text>\n<text text-anchor=\"start\" x=\"1872\" y=\"-260.8\" font-family=\"Helvetica,sans-Serif\" font-size=\"14.00\" fill=\"#000000\">samples = 701</text>\n<text text-anchor=\"start\" x=\"1866\" y=\"-245.8\" font-family=\"Helvetica,sans-Serif\" font-size=\"14.00\" fill=\"#000000\">value = [10, 691]</text>\n<text text-anchor=\"start\" x=\"1873\" y=\"-230.8\" font-family=\"Helvetica,sans-Serif\" font-size=\"14.00\" fill=\"#000000\">class = default</text>\n</g>\n<!-- 32&#45;&gt;34 -->\n<g id=\"edge34\" class=\"edge\">\n<title>32&#45;&gt;34</title>\n<path fill=\"none\" stroke=\"#000000\" d=\"M1757.4379,-341.8796C1778.7524,-331.7339 1801.6733,-320.8235 1823.3875,-310.4876\"/>\n<polygon fill=\"#000000\" stroke=\"#000000\" points=\"1825.0865,-313.5552 1832.6115,-306.0969 1822.0779,-307.2347 1825.0865,-313.5552\"/>\n</g>\n<!-- 35 -->\n<g id=\"node36\" class=\"node\">\n<title>35</title>\n<path fill=\"#3c9ee5\" stroke=\"#000000\" d=\"M2011,-187C2011,-187 1829,-187 1829,-187 1823,-187 1817,-181 1817,-175 1817,-175 1817,-116 1817,-116 1817,-110 1823,-104 1829,-104 1829,-104 2011,-104 2011,-104 2017,-104 2023,-110 2023,-116 2023,-116 2023,-175 2023,-175 2023,-181 2017,-187 2011,-187\"/>\n<text text-anchor=\"start\" x=\"1825\" y=\"-171.8\" font-family=\"Helvetica,sans-Serif\" font-size=\"14.00\" fill=\"#000000\">External Risk Estimate ≤ 77.5</text>\n<text text-anchor=\"start\" x=\"1882\" y=\"-156.8\" font-family=\"Helvetica,sans-Serif\" font-size=\"14.00\" fill=\"#000000\">gini = 0.025</text>\n<text text-anchor=\"start\" x=\"1872\" y=\"-141.8\" font-family=\"Helvetica,sans-Serif\" font-size=\"14.00\" fill=\"#000000\">samples = 700</text>\n<text text-anchor=\"start\" x=\"1870\" y=\"-126.8\" font-family=\"Helvetica,sans-Serif\" font-size=\"14.00\" fill=\"#000000\">value = [9, 691]</text>\n<text text-anchor=\"start\" x=\"1873\" y=\"-111.8\" font-family=\"Helvetica,sans-Serif\" font-size=\"14.00\" fill=\"#000000\">class = default</text>\n</g>\n<!-- 34&#45;&gt;35 -->\n<g id=\"edge35\" class=\"edge\">\n<title>34&#45;&gt;35</title>\n<path fill=\"none\" stroke=\"#000000\" d=\"M1920,-222.8796C1920,-214.6838 1920,-205.9891 1920,-197.5013\"/>\n<polygon fill=\"#000000\" stroke=\"#000000\" points=\"1923.5001,-197.298 1920,-187.2981 1916.5001,-197.2981 1923.5001,-197.298\"/>\n</g>\n<!-- 38 -->\n<g id=\"node39\" class=\"node\">\n<title>38</title>\n<path fill=\"#e58139\" stroke=\"#000000\" d=\"M2163,-179.5C2163,-179.5 2053,-179.5 2053,-179.5 2047,-179.5 2041,-173.5 2041,-167.5 2041,-167.5 2041,-123.5 2041,-123.5 2041,-117.5 2047,-111.5 2053,-111.5 2053,-111.5 2163,-111.5 2163,-111.5 2169,-111.5 2175,-117.5 2175,-123.5 2175,-123.5 2175,-167.5 2175,-167.5 2175,-173.5 2169,-179.5 2163,-179.5\"/>\n<text text-anchor=\"start\" x=\"2078.5\" y=\"-164.3\" font-family=\"Helvetica,sans-Serif\" font-size=\"14.00\" fill=\"#000000\">gini = 0.0</text>\n<text text-anchor=\"start\" x=\"2068.5\" y=\"-149.3\" font-family=\"Helvetica,sans-Serif\" font-size=\"14.00\" fill=\"#000000\">samples = 1</text>\n<text text-anchor=\"start\" x=\"2066.5\" y=\"-134.3\" font-family=\"Helvetica,sans-Serif\" font-size=\"14.00\" fill=\"#000000\">value = [1, 0]</text>\n<text text-anchor=\"start\" x=\"2049\" y=\"-119.3\" font-family=\"Helvetica,sans-Serif\" font-size=\"14.00\" fill=\"#000000\">class = not default</text>\n</g>\n<!-- 34&#45;&gt;38 -->\n<g id=\"edge38\" class=\"edge\">\n<title>34&#45;&gt;38</title>\n<path fill=\"none\" stroke=\"#000000\" d=\"M1985.7533,-222.8796C2005.128,-210.6158 2026.2676,-197.2348 2045.4363,-185.1015\"/>\n<polygon fill=\"#000000\" stroke=\"#000000\" points=\"2047.5137,-187.9288 2054.0913,-179.623 2043.7698,-182.0141 2047.5137,-187.9288\"/>\n</g>\n<!-- 36 -->\n<g id=\"node37\" class=\"node\">\n<title>36</title>\n<path fill=\"#5aade9\" stroke=\"#000000\" d=\"M1935,-68C1935,-68 1849,-68 1849,-68 1843,-68 1837,-62 1837,-56 1837,-56 1837,-12 1837,-12 1837,-6 1843,0 1849,0 1849,0 1935,0 1935,0 1941,0 1947,-6 1947,-12 1947,-12 1947,-56 1947,-56 1947,-62 1941,-68 1935,-68\"/>\n<text text-anchor=\"start\" x=\"1854\" y=\"-52.8\" font-family=\"Helvetica,sans-Serif\" font-size=\"14.00\" fill=\"#000000\">gini = 0.245</text>\n<text text-anchor=\"start\" x=\"1848\" y=\"-37.8\" font-family=\"Helvetica,sans-Serif\" font-size=\"14.00\" fill=\"#000000\">samples = 49</text>\n<text text-anchor=\"start\" x=\"1846.5\" y=\"-22.8\" font-family=\"Helvetica,sans-Serif\" font-size=\"14.00\" fill=\"#000000\">value = [7, 42]</text>\n<text text-anchor=\"start\" x=\"1845\" y=\"-7.8\" font-family=\"Helvetica,sans-Serif\" font-size=\"14.00\" fill=\"#000000\">class = default</text>\n</g>\n<!-- 35&#45;&gt;36 -->\n<g id=\"edge36\" class=\"edge\">\n<title>35&#45;&gt;36</title>\n<path fill=\"none\" stroke=\"#000000\" d=\"M1909.5738,-103.9815C1907.4505,-95.5261 1905.2096,-86.6026 1903.065,-78.0623\"/>\n<polygon fill=\"#000000\" stroke=\"#000000\" points=\"1906.4346,-77.1101 1900.6043,-68.2637 1899.6454,-78.815 1906.4346,-77.1101\"/>\n</g>\n<!-- 37 -->\n<g id=\"node38\" class=\"node\">\n<title>37</title>\n<path fill=\"#3a9de5\" stroke=\"#000000\" d=\"M2069,-68C2069,-68 1977,-68 1977,-68 1971,-68 1965,-62 1965,-56 1965,-56 1965,-12 1965,-12 1965,-6 1971,0 1977,0 1977,0 2069,0 2069,0 2075,0 2081,-6 2081,-12 2081,-12 2081,-56 2081,-56 2081,-62 2075,-68 2069,-68\"/>\n<text text-anchor=\"start\" x=\"1985\" y=\"-52.8\" font-family=\"Helvetica,sans-Serif\" font-size=\"14.00\" fill=\"#000000\">gini = 0.006</text>\n<text text-anchor=\"start\" x=\"1975\" y=\"-37.8\" font-family=\"Helvetica,sans-Serif\" font-size=\"14.00\" fill=\"#000000\">samples = 651</text>\n<text text-anchor=\"start\" x=\"1973\" y=\"-22.8\" font-family=\"Helvetica,sans-Serif\" font-size=\"14.00\" fill=\"#000000\">value = [2, 649]</text>\n<text text-anchor=\"start\" x=\"1976\" y=\"-7.8\" font-family=\"Helvetica,sans-Serif\" font-size=\"14.00\" fill=\"#000000\">class = default</text>\n</g>\n<!-- 35&#45;&gt;37 -->\n<g id=\"edge37\" class=\"edge\">\n<title>35&#45;&gt;37</title>\n<path fill=\"none\" stroke=\"#000000\" d=\"M1958.3534,-103.9815C1966.8434,-94.7908 1975.8443,-85.0472 1984.3463,-75.8436\"/>\n<polygon fill=\"#000000\" stroke=\"#000000\" points=\"1987.1337,-77.9842 1991.3484,-68.2637 1981.9919,-73.2343 1987.1337,-77.9842\"/>\n</g>\n</g>\n</svg>\n"
          },
          "metadata": {},
          "execution_count": 12
        }
      ]
    },
    {
      "cell_type": "markdown",
      "source": [
        "## Question Answering\n",
        "Please answer the following questions based on the surrogate model you have trained.  \n",
        "\n",
        "(1) What features are important when the original model makes predictions? List the top 5 features that yout think are mostly important.\n",
        "<br>\n",
        "**Answer:** I have arranged all the features according to their importance. The top 5 attributes which are important is: \n",
        "Average Months in File, Months Since Last Trade Open, Bank Trades w/ High Utilization Ratio, Trades 60+ Ever, Inq Last 6 Months exl. 7 days\n",
        "<br><br> \n",
        "\n",
        "\n",
        "(2) Please explain why you choose the parameters you used to train the surrogate tree.\n",
        "<br>\n",
        "**Answer:** The hyperparameter max_depth controls the overall complexity of a decision tree. This hyperparameter allows to get a trade-off between an under-fitted and over-fitted decision tree. Min Samples Spit allows growing asymmetric trees and apply a constraint at the leaves or nodes level.\n",
        "<br><br>\n",
        "\n",
        "(3) When a person is predicted as \"will default\" in the future, what may the loan application look like? Describe the application using no more than 3 features. And what's your reason for this description?\n",
        "<br>\n",
        "**Answer:** When a person is predicted as \"will default\" in the future the features that are most important is: Bills paid on Time, Months Since Most Recent Inq, Average Months in File\n",
        "<br><br>\n",
        "\n",
        "(4) Imagine that you are going to deploy this SVM model for the actual business department, please list 3 questions about this SVM model's behavior that you want to know before the actual deployment, and whether they can be answered by the surrogate tree. \n",
        "(Notice: This question is not to judege how well you can do something, just to help you understand the role of model interpretation in the whole pipeline. So you can just list whatever you want to talk about.)\n",
        "<br>\n",
        "**Answer:** \n",
        "<br>\n",
        "1. First thing I would like to know is whether the data fits into the kernel provided by SVM or not. Surrogate model handles all types of data like, linear, poly, etc.\n",
        "\n",
        "2. The size of the data. Because SVM can't handle huge amount of data while on the other side Surrogate Decision Tree handles it well.\n",
        "\n",
        "3. Classification performance is almost identical in both cases but SVM took longer to trai the model then surrogate model.\n",
        "\n",
        "<br><br>\n",
        "======== You can run some code and answer the questions based on what you see from the result ========"
      ],
      "metadata": {
        "id": "iKFsVmaBiF3k"
      }
    },
    {
      "cell_type": "code",
      "source": [
        "from matplotlib import pyplot\n",
        "name1 = []\n",
        "importance1 = []\n",
        "# summarize feature importance\n",
        "for importance, name in sorted(zip(tree_model.feature_importances_, df.columns),reverse=True)[1:6]:\n",
        "    name1.append(name)\n",
        "    importance1.append(importance)\n",
        "# plot feature importance\n",
        "pyplot.bar(name1, importance1)\n",
        "pyplot.xticks(rotation = 40)\n",
        "pyplot.show()"
      ],
      "metadata": {
        "id": "fY693CtyqXCI",
        "outputId": "f1d466db-63c2-4e28-853c-ef023d372239",
        "colab": {
          "base_uri": "https://localhost:8080/",
          "height": 381
        }
      },
      "execution_count": 14,
      "outputs": [
        {
          "output_type": "display_data",
          "data": {
            "image/png": "[encoded data removed]",
            "text/plain": [
              "<Figure size 432x288 with 1 Axes>"
            ]
          },
          "metadata": {
            "needs_background": "light"
          }
        }
      ]
    },
    {
      "cell_type": "code",
      "source": [
        "df.columns"
      ],
      "metadata": {
        "id": "JBY3-DGaNNsd",
        "outputId": "b998168d-a335-4c26-ba8c-6642c5a9ceef",
        "colab": {
          "base_uri": "https://localhost:8080/"
        }
      },
      "execution_count": 16,
      "outputs": [
        {
          "output_type": "execute_result",
          "data": {
            "text/plain": [
              "Index(['Outcome', 'External Risk Estimate', 'Months Since Oldest Trade Open',\n",
              "       'Months Since Last Trade Open', 'Average Months in File',\n",
              "       'Satisfactory Trades', 'Trades 60+ Ever', 'Trades 90+ Ever',\n",
              "       'Bills Paid on Time', 'Months Since Last Delq.', 'Max Delq. Last 12M',\n",
              "       'Max Delq. Ever', 'Total Trades', 'Trades Open Last 12M',\n",
              "       '% Installment Trades', 'Months Since Most Recent Inq',\n",
              "       'Inq Last 6 Months', 'Inq Last 6 Months exl. 7 days', 'Unpaid Balance',\n",
              "       'Installment Burden', 'Revolving Trades w/ Balance',\n",
              "       'Installment Trades w/ Balance',\n",
              "       'Bank Trades w/ High Utilization Ratio', '% Trades w/ Balance'],\n",
              "      dtype='object')"
            ]
          },
          "metadata": {},
          "execution_count": 16
        }
      ]
    },
    {
      "cell_type": "code",
      "source": [
        ""
      ],
      "metadata": {
        "id": "rGKbdbJQRf-K"
      },
      "execution_count": null,
      "outputs": []
    }
  ]
}