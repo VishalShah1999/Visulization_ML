{
  "nbformat": 4,
  "nbformat_minor": 0,
  "metadata": {
    "colab": {
      "name": "Homework_6.ipynb",
      "provenance": [],
      "collapsed_sections": [],
      "include_colab_link": true
    },
    "kernelspec": {
      "name": "python3",
      "display_name": "Python 3"
    },
    "language_info": {
      "name": "python"
    }
  },
  "cells": [
    {
      "cell_type": "markdown",
      "metadata": {
        "id": "view-in-github",
        "colab_type": "text"
      },
      "source": [
        "<a href=\"https://colab.research.google.com/github/VishalShah1999/Visulization_ML/blob/main/vs2530_HW6.ipynb\" target=\"_parent\"><img src=\"https://colab.research.google.com/assets/colab-badge.svg\" alt=\"Open In Colab\"/></a>"
      ]
    },
    {
      "cell_type": "markdown",
      "source": [
        "# Homework 6\n",
        "## Black Box Explainability\n",
        "\n",
        "In this homework, you will be using the [Census Data Set](https://raw.githubusercontent.com/dsrscientist/dataset1/master/census_income.csv), which is a `.csv` where each row is a person part of the US census. We call this data set in automatically (you do not need to upload it here).\n",
        "\n",
        "If there is code that requires a random seed please set it to `2022`.\n",
        "\n",
        "Please DO NOT change the code below. Start at question 1."
      ],
      "metadata": {
        "id": "e1s65nnSNlA0"
      }
    },
    {
      "cell_type": "code",
      "source": [
        "!pip install lime shap"
      ],
      "metadata": {
        "colab": {
          "base_uri": "https://localhost:8080/"
        },
        "id": "e_r5GaL6PdMv",
        "outputId": "78603a7d-8963-432e-e339-642fce2a521d"
      },
      "execution_count": 1,
      "outputs": [
        {
          "output_type": "stream",
          "name": "stdout",
          "text": [
            "Collecting lime\n",
            "  Downloading lime-0.2.0.1.tar.gz (275 kB)\n",
            "\u001b[K     |████████████████████████████████| 275 kB 5.2 MB/s \n",
            "\u001b[?25hCollecting shap\n",
            "  Downloading shap-0.40.0-cp37-cp37m-manylinux2010_x86_64.whl (564 kB)\n",
            "\u001b[K     |████████████████████████████████| 564 kB 29.3 MB/s \n",
            "\u001b[?25hRequirement already satisfied: matplotlib in /usr/local/lib/python3.7/dist-packages (from lime) (3.2.2)\n",
            "Requirement already satisfied: numpy in /usr/local/lib/python3.7/dist-packages (from lime) (1.21.5)\n",
            "Requirement already satisfied: scipy in /usr/local/lib/python3.7/dist-packages (from lime) (1.4.1)\n",
            "Requirement already satisfied: tqdm in /usr/local/lib/python3.7/dist-packages (from lime) (4.63.0)\n",
            "Requirement already satisfied: scikit-learn>=0.18 in /usr/local/lib/python3.7/dist-packages (from lime) (1.0.2)\n",
            "Requirement already satisfied: scikit-image>=0.12 in /usr/local/lib/python3.7/dist-packages (from lime) (0.18.3)\n",
            "Requirement already satisfied: pillow!=7.1.0,!=7.1.1,>=4.3.0 in /usr/local/lib/python3.7/dist-packages (from scikit-image>=0.12->lime) (7.1.2)\n",
            "Requirement already satisfied: tifffile>=2019.7.26 in /usr/local/lib/python3.7/dist-packages (from scikit-image>=0.12->lime) (2021.11.2)\n",
            "Requirement already satisfied: imageio>=2.3.0 in /usr/local/lib/python3.7/dist-packages (from scikit-image>=0.12->lime) (2.4.1)\n",
            "Requirement already satisfied: networkx>=2.0 in /usr/local/lib/python3.7/dist-packages (from scikit-image>=0.12->lime) (2.6.3)\n",
            "Requirement already satisfied: PyWavelets>=1.1.1 in /usr/local/lib/python3.7/dist-packages (from scikit-image>=0.12->lime) (1.2.0)\n",
            "Requirement already satisfied: pyparsing!=2.0.4,!=2.1.2,!=2.1.6,>=2.0.1 in /usr/local/lib/python3.7/dist-packages (from matplotlib->lime) (3.0.7)\n",
            "Requirement already satisfied: python-dateutil>=2.1 in /usr/local/lib/python3.7/dist-packages (from matplotlib->lime) (2.8.2)\n",
            "Requirement already satisfied: kiwisolver>=1.0.1 in /usr/local/lib/python3.7/dist-packages (from matplotlib->lime) (1.3.2)\n",
            "Requirement already satisfied: cycler>=0.10 in /usr/local/lib/python3.7/dist-packages (from matplotlib->lime) (0.11.0)\n",
            "Requirement already satisfied: six>=1.5 in /usr/local/lib/python3.7/dist-packages (from python-dateutil>=2.1->matplotlib->lime) (1.15.0)\n",
            "Requirement already satisfied: joblib>=0.11 in /usr/local/lib/python3.7/dist-packages (from scikit-learn>=0.18->lime) (1.1.0)\n",
            "Requirement already satisfied: threadpoolctl>=2.0.0 in /usr/local/lib/python3.7/dist-packages (from scikit-learn>=0.18->lime) (3.1.0)\n",
            "Requirement already satisfied: packaging>20.9 in /usr/local/lib/python3.7/dist-packages (from shap) (21.3)\n",
            "Requirement already satisfied: cloudpickle in /usr/local/lib/python3.7/dist-packages (from shap) (1.3.0)\n",
            "Requirement already satisfied: numba in /usr/local/lib/python3.7/dist-packages (from shap) (0.51.2)\n",
            "Requirement already satisfied: pandas in /usr/local/lib/python3.7/dist-packages (from shap) (1.3.5)\n",
            "Collecting slicer==0.0.7\n",
            "  Downloading slicer-0.0.7-py3-none-any.whl (14 kB)\n",
            "Requirement already satisfied: setuptools in /usr/local/lib/python3.7/dist-packages (from numba->shap) (57.4.0)\n",
            "Requirement already satisfied: llvmlite<0.35,>=0.34.0.dev0 in /usr/local/lib/python3.7/dist-packages (from numba->shap) (0.34.0)\n",
            "Requirement already satisfied: pytz>=2017.3 in /usr/local/lib/python3.7/dist-packages (from pandas->shap) (2018.9)\n",
            "Building wheels for collected packages: lime\n",
            "  Building wheel for lime (setup.py) ... \u001b[?25l\u001b[?25hdone\n",
            "  Created wheel for lime: filename=lime-0.2.0.1-py3-none-any.whl size=283857 sha256=585ce786ce0598494316c1f11ff31570f4e5273cefafed42940861ab480b9361\n",
            "  Stored in directory: /root/.cache/pip/wheels/ca/cb/e5/ac701e12d365a08917bf4c6171c0961bc880a8181359c66aa7\n",
            "Successfully built lime\n",
            "Installing collected packages: slicer, shap, lime\n",
            "Successfully installed lime-0.2.0.1 shap-0.40.0 slicer-0.0.7\n"
          ]
        }
      ]
    },
    {
      "cell_type": "code",
      "execution_count": 2,
      "metadata": {
        "id": "txRSZlilNTSS",
        "colab": {
          "base_uri": "https://localhost:8080/"
        },
        "outputId": "a6f25487-ebb3-4082-ad97-1299fed20b93"
      },
      "outputs": [
        {
          "output_type": "stream",
          "name": "stderr",
          "text": [
            "/usr/local/lib/python3.7/dist-packages/sklearn/neural_network/_multilayer_perceptron.py:696: ConvergenceWarning: Stochastic Optimizer: Maximum iterations (100) reached and the optimization hasn't converged yet.\n",
            "  ConvergenceWarning,\n"
          ]
        },
        {
          "output_type": "execute_result",
          "data": {
            "text/plain": [
              "MLPClassifier(max_iter=100, random_state=2022)"
            ]
          },
          "metadata": {},
          "execution_count": 2
        }
      ],
      "source": [
        "import pandas as pd\n",
        "import numpy as np\n",
        "\n",
        "df = pd.read_csv(\"https://raw.githubusercontent.com/dsrscientist/dataset1/master/census_income.csv\")\n",
        "\n",
        "df.drop(df[df['Native_country'] == ' ?'].index,inplace=True)\n",
        "df.drop(df[df['Occupation'] == ' ?'].index,inplace=True)\n",
        "\n",
        "from sklearn.preprocessing import LabelEncoder\n",
        "from sklearn.model_selection import train_test_split\n",
        "from sklearn.preprocessing import MinMaxScaler\n",
        "from sklearn.neural_network import MLPClassifier\n",
        "\n",
        "le = LabelEncoder() # label encoder \n",
        "df['Income'] = le.fit_transform(df['Income'])\n",
        "df['Sex'] = le.fit_transform(df['Sex'])\n",
        "\n",
        "df = pd.get_dummies(df, drop_first=True)\n",
        "\n",
        "X = df.drop(['Income'], axis=1)\n",
        "\n",
        "s = MinMaxScaler()\n",
        "X[X.columns] = s.fit_transform(X[X.columns])\n",
        "\n",
        "y = df['Income']\n",
        "\n",
        "X_train, X_test, y_train, y_test  = train_test_split(X, y, test_size=0.33, random_state=2022)\n",
        "\n",
        "clf = MLPClassifier(max_iter=100, random_state=2022)\n",
        "clf.fit(X_train, y_train)"
      ]
    },
    {
      "cell_type": "markdown",
      "source": [
        "# Question 1 (LIME Explanation)\n",
        "\n",
        "Please generate and visualize the LIME explanation for the third item in `X_test`. Use `100` samples and `15` features."
      ],
      "metadata": {
        "id": "ccK4PkjsOlrt"
      }
    },
    {
      "cell_type": "code",
      "source": [
        "import lime\n",
        "import lime.lime_tabular"
      ],
      "metadata": {
        "id": "27h-ZtFJgHbf"
      },
      "execution_count": 3,
      "outputs": []
    },
    {
      "cell_type": "code",
      "source": [
        "# Train an LIME explainer\n",
        "explainer = lime.lime_tabular.LimeTabularExplainer(np.array(X_test),\n",
        "            feature_names=X.columns, \n",
        "            class_names=['Income'], \n",
        "            discretize_continuous=True,\n",
        "            verbose=True,\n",
        "            mode='regression',\n",
        "            random_state=2022\n",
        "          )"
      ],
      "metadata": {
        "id": "X_SKxosvYAhg"
      },
      "execution_count": 14,
      "outputs": []
    },
    {
      "cell_type": "code",
      "source": [
        "exp = explainer.explain_instance(X_test.iloc[2], clf.predict, num_features=15, num_samples=100)\n",
        "exp.as_pyplot_figure()"
      ],
      "metadata": {
        "id": "eyA9BYRgYDJf",
        "outputId": "951f55d8-ab6f-4dd0-af07-4399e7f64f57",
        "colab": {
          "base_uri": "https://localhost:8080/",
          "height": 650
        }
      },
      "execution_count": 15,
      "outputs": [
        {
          "output_type": "stream",
          "name": "stderr",
          "text": [
            "/usr/local/lib/python3.7/dist-packages/sklearn/base.py:451: UserWarning: X does not have valid feature names, but MLPClassifier was fitted with feature names\n",
            "  \"X does not have valid feature names, but\"\n"
          ]
        },
        {
          "output_type": "stream",
          "name": "stdout",
          "text": [
            "Intercept 1.8598305545058427\n",
            "Prediction_local [0.32542786]\n",
            "Right: 1\n"
          ]
        },
        {
          "output_type": "execute_result",
          "data": {
            "image/png": "[encoded data removed]",
            "text/plain": [
              "<Figure size 432x288 with 1 Axes>"
            ]
          },
          "metadata": {},
          "execution_count": 15
        },
        {
          "output_type": "display_data",
          "data": {
            "image/png": "[encoded data removed]",
            "text/plain": [
              "<Figure size 432x288 with 1 Axes>"
            ]
          },
          "metadata": {
            "needs_background": "light"
          }
        }
      ]
    },
    {
      "cell_type": "markdown",
      "source": [
        "# Question 2 (LIME)\n",
        "Please answer the following questions concerning LIME parameters:\n",
        "\n",
        "Q1: What are downsides to having too low number of samples?\n",
        "Q2: What are downsides to having too high number of samples?\n",
        "Q3: What are downsides to having too low number of features?\n",
        "Q4: What are downsides to having too high number of features?"
      ],
      "metadata": {
        "id": "bBG1JutDgIId"
      }
    },
    {
      "cell_type": "code",
      "source": [
        ""
      ],
      "metadata": {
        "id": "sIcaQ3X_gfFo"
      },
      "execution_count": null,
      "outputs": []
    },
    {
      "cell_type": "markdown",
      "source": [
        "# Question 3 (SHAP)\n",
        "\n",
        "Please generate the summary bar plot of the mean SHAP values on `X_test`.\n",
        "\n",
        "For this question and Q4 and Q5, please use KernelExplainer with default parameters."
      ],
      "metadata": {
        "id": "ukn_1bxjgeI0"
      }
    },
    {
      "cell_type": "code",
      "source": [
        "import shap\n",
        "rf_shap_values = shap.KernelExplainer(clf.predict, X_test)"
      ],
      "metadata": {
        "id": "RBUYA3z_g2dK",
        "outputId": "f59f804d-f863-4961-e229-022eefc198f1",
        "colab": {
          "base_uri": "https://localhost:8080/"
        }
      },
      "execution_count": 22,
      "outputs": [
        {
          "output_type": "stream",
          "name": "stderr",
          "text": [
            "X does not have valid feature names, but MLPClassifier was fitted with feature names\n",
            "Using 9954 background data samples could cause slower run times. Consider using shap.sample(data, K) or shap.kmeans(data, K) to summarize the background as K samples.\n"
          ]
        }
      ]
    },
    {
      "cell_type": "code",
      "source": [
        "shap.summary_plot(rf_shap_values, X_test)"
      ],
      "metadata": {
        "id": "DvbNmDKkaxGK",
        "outputId": "f74b3822-216b-4131-de99-215ae3ca0a68",
        "colab": {
          "base_uri": "https://localhost:8080/",
          "height": 164
        }
      },
      "execution_count": 24,
      "outputs": [
        {
          "output_type": "error",
          "ename": "TypeError",
          "evalue": "ignored",
          "traceback": [
            "\u001b[0;31m---------------------------------------------------------------------------\u001b[0m",
            "\u001b[0;31mTypeError\u001b[0m                                 Traceback (most recent call last)",
            "\u001b[0;32m<ipython-input-24-223c7fe6a3f9>\u001b[0m in \u001b[0;36m<module>\u001b[0;34m()\u001b[0m\n\u001b[0;32m----> 1\u001b[0;31m \u001b[0mshap\u001b[0m\u001b[0;34m.\u001b[0m\u001b[0msummary_plot\u001b[0m\u001b[0;34m(\u001b[0m\u001b[0mrf_shap_values\u001b[0m\u001b[0;34m[\u001b[0m\u001b[0;36m0\u001b[0m\u001b[0;34m]\u001b[0m\u001b[0;34m,\u001b[0m \u001b[0mX_test\u001b[0m\u001b[0;34m)\u001b[0m\u001b[0;34m\u001b[0m\u001b[0;34m\u001b[0m\u001b[0m\n\u001b[0m",
            "\u001b[0;31mTypeError\u001b[0m: 'Kernel' object is not subscriptable"
          ]
        }
      ]
    },
    {
      "cell_type": "markdown",
      "source": [
        "# Question 4 (SHAP)\n",
        "\n",
        "Please generate a dependence plot for any feature of your choice. Please DESCRIBE THE PLOT AND ANY RELATIONSHIP YOU MAY SEE VIA TEXT IN A SEPARATE COLAB CELL."
      ],
      "metadata": {
        "id": "Ilsez06Ng2ui"
      }
    },
    {
      "cell_type": "code",
      "source": [
        ""
      ],
      "metadata": {
        "id": "BP5i5JCRhHlA"
      },
      "execution_count": null,
      "outputs": []
    },
    {
      "cell_type": "markdown",
      "source": [
        "# Question 5 (SHAP)\n",
        "\n",
        "Please create the summary force plot for `X_test`. What clusters of instances do you see? Please order by similarity."
      ],
      "metadata": {
        "id": "-v2zH1TThHyD"
      }
    },
    {
      "cell_type": "code",
      "source": [
        ""
      ],
      "metadata": {
        "id": "GqPXRKalhymn"
      },
      "execution_count": null,
      "outputs": []
    }
  ]
}